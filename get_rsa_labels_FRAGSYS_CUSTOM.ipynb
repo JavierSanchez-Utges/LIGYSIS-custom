{
 "cells": [
  {
   "cell_type": "code",
   "execution_count": 2,
   "metadata": {},
   "outputs": [
    {
     "name": "stderr",
     "output_type": "stream",
     "text": [
      "2024-10-17 16:08:41.448478: I tensorflow/core/platform/cpu_feature_guard.cc:193] This TensorFlow binary is optimized with oneAPI Deep Neural Network Library (oneDNN) to use the following CPU instructions in performance-critical operations:  SSE4.1 SSE4.2\n",
      "To enable them in other operations, rebuild TensorFlow with the appropriate compiler flags.\n"
     ]
    }
   ],
   "source": [
    "from fragsys_ml import *"
   ]
  },
  {
   "cell_type": "code",
   "execution_count": 66,
   "metadata": {},
   "outputs": [],
   "source": [
    "input_id = \"CMTR1_copy\"\n",
    "results_dir = f'./output/{input_id}/results'\n",
    "bss_data_out = os.path.join(results_dir, f'{input_id}_bss_table.pkl')\n",
    "bss_data_out_RSA = os.path.join(results_dir, f'{input_id}_bss_RSA_table.pkl')\n",
    "rsa_profs_out = os.path.join(results_dir, f'{input_id}_bss_RSA_profiles.pkl')\n",
    "bss_data = pd.read_pickle(bss_data_out)\n",
    "rsa_profs = load_pickle(rsa_profs_out)"
   ]
  },
  {
   "cell_type": "code",
   "execution_count": 7,
   "metadata": {},
   "outputs": [
    {
     "data": {
      "text/plain": [
       "4"
      ]
     },
     "execution_count": 7,
     "metadata": {},
     "output_type": "execute_result"
    }
   ],
   "source": [
    "len(bss_data)"
   ]
  },
  {
   "cell_type": "code",
   "execution_count": 46,
   "metadata": {},
   "outputs": [],
   "source": [
    "# rsa_profs = {f'{input_id}_{k}': v for k, v in rsa_profs.items()}"
   ]
  },
  {
   "cell_type": "code",
   "execution_count": 18,
   "metadata": {},
   "outputs": [
    {
     "data": {
      "text/html": [
       "<div>\n",
       "<style scoped>\n",
       "    .dataframe tbody tr th:only-of-type {\n",
       "        vertical-align: middle;\n",
       "    }\n",
       "\n",
       "    .dataframe tbody tr th {\n",
       "        vertical-align: top;\n",
       "    }\n",
       "\n",
       "    .dataframe thead th {\n",
       "        text-align: right;\n",
       "    }\n",
       "</style>\n",
       "<table border=\"1\" class=\"dataframe\">\n",
       "  <thead>\n",
       "    <tr style=\"text-align: right;\">\n",
       "      <th></th>\n",
       "      <th>ID</th>\n",
       "      <th>RSA</th>\n",
       "      <th>DS</th>\n",
       "      <th>MES</th>\n",
       "      <th>Size</th>\n",
       "      <th>Cluster</th>\n",
       "      <th>FS</th>\n",
       "    </tr>\n",
       "  </thead>\n",
       "  <tbody>\n",
       "    <tr>\n",
       "      <th>0</th>\n",
       "      <td>0</td>\n",
       "      <td>37.3</td>\n",
       "      <td>1.8</td>\n",
       "      <td>1.10</td>\n",
       "      <td>5</td>\n",
       "      <td>-1</td>\n",
       "      <td>-1</td>\n",
       "    </tr>\n",
       "    <tr>\n",
       "      <th>1</th>\n",
       "      <td>1</td>\n",
       "      <td>28.5</td>\n",
       "      <td>2.4</td>\n",
       "      <td>1.76</td>\n",
       "      <td>6</td>\n",
       "      <td>-1</td>\n",
       "      <td>-1</td>\n",
       "    </tr>\n",
       "    <tr>\n",
       "      <th>2</th>\n",
       "      <td>2</td>\n",
       "      <td>30.3</td>\n",
       "      <td>2.0</td>\n",
       "      <td>1.39</td>\n",
       "      <td>11</td>\n",
       "      <td>-1</td>\n",
       "      <td>-1</td>\n",
       "    </tr>\n",
       "    <tr>\n",
       "      <th>3</th>\n",
       "      <td>3</td>\n",
       "      <td>7.6</td>\n",
       "      <td>6.4</td>\n",
       "      <td>0.64</td>\n",
       "      <td>12</td>\n",
       "      <td>-1</td>\n",
       "      <td>-1</td>\n",
       "    </tr>\n",
       "  </tbody>\n",
       "</table>\n",
       "</div>"
      ],
      "text/plain": [
       "   ID   RSA   DS   MES  Size  Cluster  FS\n",
       "0   0  37.3  1.8  1.10     5       -1  -1\n",
       "1   1  28.5  2.4  1.76     6       -1  -1\n",
       "2   2  30.3  2.0  1.39    11       -1  -1\n",
       "3   3   7.6  6.4  0.64    12       -1  -1"
      ]
     },
     "execution_count": 18,
     "metadata": {},
     "output_type": "execute_result"
    }
   ],
   "source": [
    "bss_data"
   ]
  },
  {
   "cell_type": "code",
   "execution_count": 52,
   "metadata": {},
   "outputs": [],
   "source": [
    "rsa_profs_ks = list(rsa_profs.keys())"
   ]
  },
  {
   "cell_type": "code",
   "execution_count": 53,
   "metadata": {},
   "outputs": [],
   "source": [
    "bss_labs = bss_data.ID.tolist()"
   ]
  },
  {
   "cell_type": "code",
   "execution_count": 54,
   "metadata": {},
   "outputs": [
    {
     "data": {
      "text/plain": [
       "{0, 1, 2, 3}"
      ]
     },
     "execution_count": 54,
     "metadata": {},
     "output_type": "execute_result"
    }
   ],
   "source": [
    "set(rsa_profs)"
   ]
  },
  {
   "cell_type": "code",
   "execution_count": 56,
   "metadata": {},
   "outputs": [
    {
     "data": {
      "text/plain": [
       "0"
      ]
     },
     "execution_count": 56,
     "metadata": {},
     "output_type": "execute_result"
    }
   ],
   "source": [
    "len(set(rsa_profs_ks) - set(bss_labs))"
   ]
  },
  {
   "cell_type": "code",
   "execution_count": 57,
   "metadata": {},
   "outputs": [],
   "source": [
    "rsa_profs_filt = {k:v for k, v in rsa_profs.items() if len(v) > 0}"
   ]
  },
  {
   "cell_type": "code",
   "execution_count": 58,
   "metadata": {},
   "outputs": [
    {
     "data": {
      "text/plain": [
       "4"
      ]
     },
     "execution_count": 58,
     "metadata": {},
     "output_type": "execute_result"
    }
   ],
   "source": [
    "len(rsa_profs_filt) # (lost 18 profiles of length 0)"
   ]
  },
  {
   "cell_type": "code",
   "execution_count": 59,
   "metadata": {},
   "outputs": [],
   "source": [
    "max_len = max([len(v) for v in rsa_profs_filt.values()])\n",
    "bs_vectors = []\n",
    "bs_vectors_dict = {}\n",
    "for bs_id, rsa_sig in rsa_profs_filt.items():\n",
    "    rsa_sig_len = len(rsa_sig)\n",
    "    rsa_range_prop = [0 for i in range(10)] # now let us change to 10\n",
    "    for rsa in rsa_sig:\n",
    "        prop_i = int(rsa/10) # 10 RSA BINS: b1 = [0,10), b2 = [10, 20), ... b10 = [90, MAX)\n",
    "        if prop_i > 9: # if greater than 100, put in 10th bin\n",
    "            prop_i = 9\n",
    "        #print(prop_i)\n",
    "        rsa_range_prop[prop_i] += 1\n",
    "    rsa_range_prop = [round(i/rsa_sig_len, 3) for i in rsa_range_prop]\n",
    "    rsa_range_prop.insert(0, rsa_sig_len/max_len) # ADDING BINDING SITE SIZE RELATIVE TO MAX SITE SIZE (IN THIS CASE 40)\n",
    "    bs_vectors.append(rsa_range_prop)\n",
    "    bs_vectors_dict[bs_id] = rsa_range_prop\n",
    "    \n",
    "vector_df = pd.DataFrame(bs_vectors, index = list(rsa_profs_filt.keys())) # obtaining RSA vectors, which are the 11-element features used for the machine learning"
   ]
  },
  {
   "cell_type": "code",
   "execution_count": 60,
   "metadata": {},
   "outputs": [
    {
     "data": {
      "text/html": [
       "<div>\n",
       "<style scoped>\n",
       "    .dataframe tbody tr th:only-of-type {\n",
       "        vertical-align: middle;\n",
       "    }\n",
       "\n",
       "    .dataframe tbody tr th {\n",
       "        vertical-align: top;\n",
       "    }\n",
       "\n",
       "    .dataframe thead th {\n",
       "        text-align: right;\n",
       "    }\n",
       "</style>\n",
       "<table border=\"1\" class=\"dataframe\">\n",
       "  <thead>\n",
       "    <tr style=\"text-align: right;\">\n",
       "      <th></th>\n",
       "      <th>0</th>\n",
       "      <th>1</th>\n",
       "      <th>2</th>\n",
       "      <th>3</th>\n",
       "      <th>4</th>\n",
       "      <th>5</th>\n",
       "      <th>6</th>\n",
       "      <th>7</th>\n",
       "      <th>8</th>\n",
       "      <th>9</th>\n",
       "      <th>10</th>\n",
       "    </tr>\n",
       "  </thead>\n",
       "  <tbody>\n",
       "    <tr>\n",
       "      <th>0</th>\n",
       "      <td>0.416667</td>\n",
       "      <td>0.200</td>\n",
       "      <td>0.200</td>\n",
       "      <td>0.000</td>\n",
       "      <td>0.000</td>\n",
       "      <td>0.200</td>\n",
       "      <td>0.200</td>\n",
       "      <td>0.200</td>\n",
       "      <td>0.000</td>\n",
       "      <td>0.0</td>\n",
       "      <td>0.0</td>\n",
       "    </tr>\n",
       "    <tr>\n",
       "      <th>1</th>\n",
       "      <td>0.500000</td>\n",
       "      <td>0.333</td>\n",
       "      <td>0.167</td>\n",
       "      <td>0.000</td>\n",
       "      <td>0.167</td>\n",
       "      <td>0.167</td>\n",
       "      <td>0.000</td>\n",
       "      <td>0.000</td>\n",
       "      <td>0.167</td>\n",
       "      <td>0.0</td>\n",
       "      <td>0.0</td>\n",
       "    </tr>\n",
       "    <tr>\n",
       "      <th>2</th>\n",
       "      <td>0.916667</td>\n",
       "      <td>0.273</td>\n",
       "      <td>0.182</td>\n",
       "      <td>0.182</td>\n",
       "      <td>0.091</td>\n",
       "      <td>0.000</td>\n",
       "      <td>0.091</td>\n",
       "      <td>0.091</td>\n",
       "      <td>0.091</td>\n",
       "      <td>0.0</td>\n",
       "      <td>0.0</td>\n",
       "    </tr>\n",
       "    <tr>\n",
       "      <th>3</th>\n",
       "      <td>1.000000</td>\n",
       "      <td>0.667</td>\n",
       "      <td>0.250</td>\n",
       "      <td>0.083</td>\n",
       "      <td>0.000</td>\n",
       "      <td>0.000</td>\n",
       "      <td>0.000</td>\n",
       "      <td>0.000</td>\n",
       "      <td>0.000</td>\n",
       "      <td>0.0</td>\n",
       "      <td>0.0</td>\n",
       "    </tr>\n",
       "  </tbody>\n",
       "</table>\n",
       "</div>"
      ],
      "text/plain": [
       "         0      1      2      3      4      5      6      7      8    9    10\n",
       "0  0.416667  0.200  0.200  0.000  0.000  0.200  0.200  0.200  0.000  0.0  0.0\n",
       "1  0.500000  0.333  0.167  0.000  0.167  0.167  0.000  0.000  0.167  0.0  0.0\n",
       "2  0.916667  0.273  0.182  0.182  0.091  0.000  0.091  0.091  0.091  0.0  0.0\n",
       "3  1.000000  0.667  0.250  0.083  0.000  0.000  0.000  0.000  0.000  0.0  0.0"
      ]
     },
     "execution_count": 60,
     "metadata": {},
     "output_type": "execute_result"
    }
   ],
   "source": [
    "vector_df"
   ]
  },
  {
   "cell_type": "code",
   "execution_count": 61,
   "metadata": {},
   "outputs": [
    {
     "name": "stdout",
     "output_type": "stream",
     "text": [
      "0 3\n",
      "1 1\n",
      "2 0\n",
      "3 0\n"
     ]
    }
   ],
   "source": [
    "model_path = \"/homes/2394007/JSU_LIGYSIS/ANN_results/diff_seeds/85406/models/85406_4_model_epoch_75_train_acc_0.88.h5\"\n",
    "final_model = keras.models.load_model(model_path)\n",
    "\n",
    "final_preds = final_model.predict(x = vector_df, batch_size = 27, verbose = 0)\n",
    "\n",
    "rounded_predictions = np.argmax(final_preds, axis = -1)\n",
    "\n",
    "site_names = vector_df.index.tolist()\n",
    "\n",
    "clab_dict = {}\n",
    "for i in range(len(vector_df)):\n",
    "    clab_dict[site_names[i]] = rounded_predictions[i]+1\n",
    "    \n",
    "for i in [0,1,2,3]:\n",
    "    print(i, list(rounded_predictions).count(i))\n",
    "    \n",
    "func_scores_dict = {}\n",
    "for i in range(len(final_preds)):\n",
    "    func_score = ((0.52*final_preds[i][0])+(0.18*final_preds[i][1])+(0.05*final_preds[i][2])+(0.04*final_preds[i][3]))\n",
    "    func_scores_dict[site_names[i]] = round(func_score,2)"
   ]
  },
  {
   "cell_type": "code",
   "execution_count": 62,
   "metadata": {},
   "outputs": [
    {
     "data": {
      "text/plain": [
       "{0: 2, 1: 1, 2: 1, 3: 1}"
      ]
     },
     "execution_count": 62,
     "metadata": {},
     "output_type": "execute_result"
    }
   ],
   "source": [
    "clab_dict"
   ]
  },
  {
   "cell_type": "code",
   "execution_count": 41,
   "metadata": {},
   "outputs": [
    {
     "data": {
      "text/html": [
       "<div>\n",
       "<style scoped>\n",
       "    .dataframe tbody tr th:only-of-type {\n",
       "        vertical-align: middle;\n",
       "    }\n",
       "\n",
       "    .dataframe tbody tr th {\n",
       "        vertical-align: top;\n",
       "    }\n",
       "\n",
       "    .dataframe thead th {\n",
       "        text-align: right;\n",
       "    }\n",
       "</style>\n",
       "<table border=\"1\" class=\"dataframe\">\n",
       "  <thead>\n",
       "    <tr style=\"text-align: right;\">\n",
       "      <th></th>\n",
       "      <th>ID</th>\n",
       "      <th>RSA</th>\n",
       "      <th>DS</th>\n",
       "      <th>MES</th>\n",
       "      <th>Size</th>\n",
       "      <th>Cluster</th>\n",
       "      <th>FS</th>\n",
       "    </tr>\n",
       "  </thead>\n",
       "  <tbody>\n",
       "    <tr>\n",
       "      <th>0</th>\n",
       "      <td>0</td>\n",
       "      <td>37.3</td>\n",
       "      <td>1.8</td>\n",
       "      <td>1.10</td>\n",
       "      <td>5</td>\n",
       "      <td>-1</td>\n",
       "      <td>-1</td>\n",
       "    </tr>\n",
       "    <tr>\n",
       "      <th>1</th>\n",
       "      <td>1</td>\n",
       "      <td>28.5</td>\n",
       "      <td>2.4</td>\n",
       "      <td>1.76</td>\n",
       "      <td>6</td>\n",
       "      <td>-1</td>\n",
       "      <td>-1</td>\n",
       "    </tr>\n",
       "    <tr>\n",
       "      <th>2</th>\n",
       "      <td>2</td>\n",
       "      <td>30.3</td>\n",
       "      <td>2.0</td>\n",
       "      <td>1.39</td>\n",
       "      <td>11</td>\n",
       "      <td>-1</td>\n",
       "      <td>-1</td>\n",
       "    </tr>\n",
       "    <tr>\n",
       "      <th>3</th>\n",
       "      <td>3</td>\n",
       "      <td>7.6</td>\n",
       "      <td>6.4</td>\n",
       "      <td>0.64</td>\n",
       "      <td>12</td>\n",
       "      <td>-1</td>\n",
       "      <td>-1</td>\n",
       "    </tr>\n",
       "  </tbody>\n",
       "</table>\n",
       "</div>"
      ],
      "text/plain": [
       "   ID   RSA   DS   MES  Size  Cluster  FS\n",
       "0   0  37.3  1.8  1.10     5       -1  -1\n",
       "1   1  28.5  2.4  1.76     6       -1  -1\n",
       "2   2  30.3  2.0  1.39    11       -1  -1\n",
       "3   3   7.6  6.4  0.64    12       -1  -1"
      ]
     },
     "execution_count": 41,
     "metadata": {},
     "output_type": "execute_result"
    }
   ],
   "source": [
    "bss_data"
   ]
  },
  {
   "cell_type": "code",
   "execution_count": 63,
   "metadata": {},
   "outputs": [],
   "source": [
    "bss_data[\"Cluster\"] = bss_data.ID.map(clab_dict)\n",
    "bss_data[\"FS\"] = bss_data.ID.map(func_scores_dict)"
   ]
  },
  {
   "cell_type": "code",
   "execution_count": 9,
   "metadata": {},
   "outputs": [
    {
     "data": {
      "text/html": [
       "<div>\n",
       "<style scoped>\n",
       "    .dataframe tbody tr th:only-of-type {\n",
       "        vertical-align: middle;\n",
       "    }\n",
       "\n",
       "    .dataframe tbody tr th {\n",
       "        vertical-align: top;\n",
       "    }\n",
       "\n",
       "    .dataframe thead th {\n",
       "        text-align: right;\n",
       "    }\n",
       "</style>\n",
       "<table border=\"1\" class=\"dataframe\">\n",
       "  <thead>\n",
       "    <tr style=\"text-align: right;\">\n",
       "      <th></th>\n",
       "      <th>ID</th>\n",
       "      <th>RSA</th>\n",
       "      <th>DS</th>\n",
       "      <th>MES</th>\n",
       "      <th>Size</th>\n",
       "      <th>Cluster</th>\n",
       "      <th>FS</th>\n",
       "    </tr>\n",
       "  </thead>\n",
       "  <tbody>\n",
       "    <tr>\n",
       "      <th>0</th>\n",
       "      <td>0</td>\n",
       "      <td>37.3</td>\n",
       "      <td>1.8</td>\n",
       "      <td>1.10</td>\n",
       "      <td>5</td>\n",
       "      <td>NaN</td>\n",
       "      <td>0.14</td>\n",
       "    </tr>\n",
       "    <tr>\n",
       "      <th>1</th>\n",
       "      <td>1</td>\n",
       "      <td>28.5</td>\n",
       "      <td>2.4</td>\n",
       "      <td>1.76</td>\n",
       "      <td>6</td>\n",
       "      <td>NaN</td>\n",
       "      <td>0.37</td>\n",
       "    </tr>\n",
       "    <tr>\n",
       "      <th>2</th>\n",
       "      <td>2</td>\n",
       "      <td>30.3</td>\n",
       "      <td>2.0</td>\n",
       "      <td>1.39</td>\n",
       "      <td>11</td>\n",
       "      <td>NaN</td>\n",
       "      <td>0.38</td>\n",
       "    </tr>\n",
       "    <tr>\n",
       "      <th>3</th>\n",
       "      <td>3</td>\n",
       "      <td>7.6</td>\n",
       "      <td>6.4</td>\n",
       "      <td>0.64</td>\n",
       "      <td>12</td>\n",
       "      <td>NaN</td>\n",
       "      <td>0.52</td>\n",
       "    </tr>\n",
       "  </tbody>\n",
       "</table>\n",
       "</div>"
      ],
      "text/plain": [
       "   ID   RSA   DS   MES  Size  Cluster    FS\n",
       "0   0  37.3  1.8  1.10     5      NaN  0.14\n",
       "1   1  28.5  2.4  1.76     6      NaN  0.37\n",
       "2   2  30.3  2.0  1.39    11      NaN  0.38\n",
       "3   3   7.6  6.4  0.64    12      NaN  0.52"
      ]
     },
     "execution_count": 9,
     "metadata": {},
     "output_type": "execute_result"
    }
   ],
   "source": [
    "bss_data"
   ]
  },
  {
   "cell_type": "code",
   "execution_count": 68,
   "metadata": {},
   "outputs": [],
   "source": [
    "bss_data.to_pickle(bss_data_out_RSA)"
   ]
  },
  {
   "cell_type": "markdown",
   "metadata": {},
   "source": [
    "## Tidying it up for script"
   ]
  },
  {
   "cell_type": "code",
   "execution_count": 11,
   "metadata": {},
   "outputs": [],
   "source": [
    "import os\n",
    "import pickle\n",
    "import numpy as np\n",
    "import pandas as pd\n",
    "from tensorflow import keras\n",
    "\n",
    "def load_pickle(f_in):\n",
    "    \"\"\"\n",
    "    loads pickle\n",
    "    \"\"\"\n",
    "    with open(f_in, \"rb\") as f:\n",
    "        data = pickle.load(f)\n",
    "    return data\n",
    "\n",
    "def get_RSA_vectors(rsa_profs_filt):\n",
    "    max_len = max([len(v) for v in rsa_profs_filt.values()])\n",
    "    bs_vectors = []\n",
    "    bs_vectors_dict = {}\n",
    "    for bs_id, rsa_sig in rsa_profs_filt.items():\n",
    "        rsa_sig_len = len(rsa_sig)\n",
    "        rsa_range_prop = [0 for i in range(10)] # now let us change to 10\n",
    "        for rsa in rsa_sig:\n",
    "            prop_i = int(rsa/10) # 10 RSA BINS: b1 = [0,10), b2 = [10, 20), ... b10 = [90, MAX)\n",
    "            if prop_i > 9: # if greater than 100, put in 10th bin\n",
    "                prop_i = 9\n",
    "            rsa_range_prop[prop_i] += 1\n",
    "        rsa_range_prop = [round(i/rsa_sig_len, 3) for i in rsa_range_prop]\n",
    "        rsa_range_prop.insert(0, rsa_sig_len/max_len) # ADDING BINDING SITE SIZE RELATIVE TO MAX SITE SIZE (IN THIS CASE 40)\n",
    "        bs_vectors.append(rsa_range_prop)\n",
    "        bs_vectors_dict[bs_id] = rsa_range_prop\n",
    "\n",
    "    vector_df = pd.DataFrame(bs_vectors, index = list(rsa_profs_filt.keys())) # obtaining RSA vectors, which are the 11-element features used for the machine learning\n",
    "\n",
    "    return vector_df\n",
    "\n",
    "input_id = \"CMTR1_copy\"\n",
    "\n",
    "results_dir = f'./output/{input_id}/results'\n",
    "bss_data_out = os.path.join(results_dir, f'{input_id}_bss_table.pkl')\n",
    "bss_data_out_RSA = os.path.join(results_dir, f'{input_id}_bss_RSA_table.pkl')\n",
    "rsa_profs_out = os.path.join(results_dir, f'{input_id}_bss_RSA_profiles.pkl')\n",
    "\n",
    "model_path = \"/homes/2394007/JSU_LIGYSIS/ANN_results/diff_seeds/85406/models/85406_4_model_epoch_75_train_acc_0.88.h5\"\n",
    "\n",
    "bss_data = pd.read_pickle(bss_data_out)\n",
    "rsa_profs = load_pickle(rsa_profs_out)\n",
    "rsa_profs_ks = list(rsa_profs.keys())\n",
    "bss_labs = bss_data.ID.tolist()\n",
    "rsa_profs_filt = {k:v for k, v in rsa_profs.items() if len(v) > 0}\n",
    "\n",
    "vector_df = get_RSA_vectors(rsa_profs_filt)\n",
    "\n",
    "final_model = keras.models.load_model(model_path)\n",
    "final_preds = final_model.predict(x = vector_df, batch_size = 27, verbose = 0)\n",
    "rounded_predictions = np.argmax(final_preds, axis = -1)\n",
    "site_names = vector_df.index.tolist()\n",
    "\n",
    "clab_dict = {}\n",
    "for i in range(len(vector_df)):\n",
    "    clab_dict[site_names[i]] = rounded_predictions[i]+1\n",
    "\n",
    "func_scores_dict = {}\n",
    "for i in range(len(final_preds)):\n",
    "    func_score = ((0.52*final_preds[i][0])+(0.18*final_preds[i][1])+(0.05*final_preds[i][2])+(0.04*final_preds[i][3]))\n",
    "    func_scores_dict[site_names[i]] = round(func_score,2)\n",
    "    \n",
    "bss_data[\"Cluster\"] = bss_data.ID.map(clab_dict)\n",
    "bss_data[\"FS\"] = bss_data.ID.map(func_scores_dict)\n",
    "\n",
    "bss_data.to_pickle(bss_data_out_RSA)"
   ]
  },
  {
   "cell_type": "code",
   "execution_count": 10,
   "metadata": {},
   "outputs": [
    {
     "data": {
      "text/plain": [
       "{}"
      ]
     },
     "execution_count": 10,
     "metadata": {},
     "output_type": "execute_result"
    }
   ],
   "source": [
    "clab_dict"
   ]
  },
  {
   "cell_type": "code",
   "execution_count": null,
   "metadata": {},
   "outputs": [],
   "source": [
    "import os\n",
    "import pickle\n",
    "import numpy as np\n",
    "import pandas as pd\n",
    "from tensorflow import keras\n",
    "import argparse\n",
    "\n",
    "def load_pickle(f_in):\n",
    "    \"\"\"\n",
    "    loads pickle\n",
    "    \"\"\"\n",
    "    with open(f_in, \"rb\") as f:\n",
    "        data = pickle.load(f)\n",
    "    return data\n",
    "\n",
    "def get_RSA_vectors(rsa_profs_filt):\n",
    "    max_len = max([len(v) for v in rsa_profs_filt.values()])\n",
    "    bs_vectors = []\n",
    "    bs_vectors_dict = {}\n",
    "    for bs_id, rsa_sig in rsa_profs_filt.items():\n",
    "        rsa_sig_len = len(rsa_sig)\n",
    "        rsa_range_prop = [0 for i in range(10)]  # now let us change to 10\n",
    "        for rsa in rsa_sig:\n",
    "            prop_i = int(rsa / 10)  # 10 RSA BINS: b1 = [0,10), b2 = [10, 20), ... b10 = [90, MAX)\n",
    "            if prop_i > 9:  # if greater than 100, put in 10th bin\n",
    "                prop_i = 9\n",
    "            rsa_range_prop[prop_i] += 1\n",
    "        rsa_range_prop = [round(i / rsa_sig_len, 3) for i in rsa_range_prop]\n",
    "        rsa_range_prop.insert(0, rsa_sig_len / max_len)  # ADDING BINDING SITE SIZE RELATIVE TO MAX SITE SIZE (IN THIS CASE 40)\n",
    "        bs_vectors.append(rsa_range_prop)\n",
    "        bs_vectors_dict[bs_id] = rsa_range_prop\n",
    "\n",
    "    vector_df = pd.DataFrame(bs_vectors, index=list(rsa_profs_filt.keys()))  # obtaining RSA vectors, which are the 11-element features used for the machine learning\n",
    "\n",
    "    return vector_df\n",
    "\n",
    "def main(input_id):\n",
    "    results_dir = f'./output/{input_id}/results'\n",
    "    bss_data_out = os.path.join(results_dir, f'{input_id}_bss_table.pkl')\n",
    "    bss_data_out_RSA = os.path.join(results_dir, f'{input_id}_bss_RSA_table.pkl')\n",
    "    rsa_profs_out = os.path.join(results_dir, f'{input_id}_bss_RSA_profiles.pkl')\n",
    "\n",
    "    model_path = \"/homes/2394007/JSU_LIGYSIS/ANN_results/diff_seeds/85406/models/85406_4_model_epoch_75_train_acc_0.88.h5\"\n",
    "\n",
    "    # Load data\n",
    "    bss_data = pd.read_pickle(bss_data_out)\n",
    "    rsa_profs = load_pickle(rsa_profs_out)\n",
    "    rsa_profs_filt = {k: v for k, v in rsa_profs.items() if len(v) > 0}\n",
    "\n",
    "    # Get RSA vectors\n",
    "    vector_df = get_RSA_vectors(rsa_profs_filt)\n",
    "\n",
    "    # Load the model\n",
    "    final_model = keras.models.load_model(model_path)\n",
    "\n",
    "    # Predict\n",
    "    final_preds = final_model.predict(x=vector_df, batch_size=27, verbose=0)\n",
    "    rounded_predictions = np.argmax(final_preds, axis=-1)\n",
    "    site_names = vector_df.index.tolist()\n",
    "\n",
    "    # Calculate functional scores\n",
    "    func_scores_dict = {}\n",
    "    for i in range(len(final_preds)):\n",
    "        func_score = ((0.52 * final_preds[i][0]) + (0.18 * final_preds[i][1]) + (0.05 * final_preds[i][2]) + (0.04 * final_preds[i][3]))\n",
    "        func_scores_dict[site_names[i]] = round(func_score, 2)\n",
    "\n",
    "    # Add data to DataFrame\n",
    "    bss_data[\"FS\"] = bss_data.ID.map(func_scores_dict)\n",
    "\n",
    "    # Save the modified DataFrame\n",
    "    bss_data.to_pickle(bss_data_out_RSA)\n",
    "\n",
    "if __name__ == \"__main__\":\n",
    "    parser = argparse.ArgumentParser(description='Process input_id.')\n",
    "    parser.add_argument('input_id', type=str, help='The input_id to process')\n",
    "    args = parser.parse_args()\n",
    "\n",
    "    main(args.input_id)\n"
   ]
  }
 ],
 "metadata": {
  "kernelspec": {
   "display_name": "Python [conda env:deep_learning]",
   "language": "python",
   "name": "conda-env-deep_learning-py"
  },
  "language_info": {
   "codemirror_mode": {
    "name": "ipython",
    "version": 3
   },
   "file_extension": ".py",
   "mimetype": "text/x-python",
   "name": "python",
   "nbconvert_exporter": "python",
   "pygments_lexer": "ipython3",
   "version": "3.10.8"
  }
 },
 "nbformat": 4,
 "nbformat_minor": 4
}
