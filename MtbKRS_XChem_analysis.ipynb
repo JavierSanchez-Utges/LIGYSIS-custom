{
 "cells": [
  {
   "cell_type": "code",
   "execution_count": 1,
   "metadata": {},
   "outputs": [],
   "source": [
    "import os\n",
    "import pickle\n",
    "import scipy\n",
    "import matplotlib\n",
    "import numpy as np\n",
    "import pandas as pd\n",
    "import seaborn as sns\n",
    "import matplotlib.pyplot as plt"
   ]
  },
  {
   "cell_type": "code",
   "execution_count": 2,
   "metadata": {},
   "outputs": [],
   "source": [
    "def dump_pickle(data, pickle_out):\n",
    "    \"\"\"\n",
    "    Dumps pickle.\n",
    "    \"\"\"\n",
    "    with open(pickle_out, \"wb\") as f:\n",
    "        pickle.dump(data, f)\n",
    "\n",
    "def load_pickle(pickle_in):\n",
    "    \"\"\"\n",
    "    Loads pickle.\n",
    "    \"\"\"\n",
    "    with open(pickle_in, \"rb\") as f:\n",
    "        data = pickle.load(f)\n",
    "    return data"
   ]
  },
  {
   "cell_type": "code",
   "execution_count": 3,
   "metadata": {},
   "outputs": [],
   "source": [
    "wd = \".\"\n",
    "input_id = \"MtbKRS_XChem_hits\"\n",
    "in_dir = os.path.join(wd, \"input\", input_id)\n",
    "out_dir = os.path.join(wd, \"output\", input_id)\n",
    "results_dir = os.path.join(out_dir, \"results\")"
   ]
  },
  {
   "cell_type": "code",
   "execution_count": 4,
   "metadata": {},
   "outputs": [],
   "source": [
    "ress_ss_dict = load_pickle(os.path.join(results_dir, '{}_ress_SS.pkl'.format(input_id)))                    # residue --> SS\n",
    "ress_aa_dict = load_pickle(os.path.join(results_dir, '{}_ress_AA.pkl'.format(input_id)))                    # residue --> AA\n",
    "ress_rsa_dict = load_pickle(os.path.join(results_dir, '{}_ress_RSA.pkl'.format(input_id)))                  # residue --> RSA\n",
    "ress_bss_dict = load_pickle(os.path.join(results_dir, '{}_res_bss.pkl'.format(input_id)))                   # residue --> [binding sites]\n",
    "\n",
    "lig_ress_dict = load_pickle(os.path.join(results_dir, '{}_lig_ress.pkl'.format(input_id)))                  # ligand --> [binding residues]\n",
    "lig_inters_df = pd.read_pickle(os.path.join(results_dir, '{}_lig_inters.pkl'.format(input_id)))             # ligand interactions dataframe\n",
    "lig_bs_dict = load_pickle(os.path.join(results_dir, '{}_lig_bs.pkl'.format(input_id)))                      # ligand --> binding site\n",
    "lig_data_df = pd.read_pickle(os.path.join(results_dir, '{}_lig_data.pkl'.format(input_id)))                 # ligand dataframe\n",
    "\n",
    "site_ress_dict = load_pickle(os.path.join(results_dir, '{}_site_ress.pkl'.format(input_id)))                # binding site --> [binding residues]\n",
    "aa_profs_dict = load_pickle(os.path.join(results_dir, '{}_bss_AA_profiles.pkl'.format(input_id)))           # binding site --> [AA]\n",
    "rsa_profs_dict = load_pickle(os.path.join(results_dir, '{}_bss_RSA_profiles.pkl'.format(input_id)))         # binding site --> [SS]\n",
    "ss_profs_dict = load_pickle(os.path.join(results_dir, '{}_bss_SS_profiles.pkl'.format(input_id)))           # binding site --> [RSA]\n",
    "rel_dist_df = pd.read_pickle(os.path.join(results_dir, '{}_rel_dist.pkl'.format(input_id)))                 # D = 1 - Irel matrix (DF)\n",
    "bs_def_df = pd.read_pickle(os.path.join(results_dir, '{}_BS_def_average_i_rel_0.5.pkl'.format(input_id)))   # binding site definition\n",
    "dssp_df = pd.read_pickle(os.path.join(results_dir, '{}_dssp_mapped.pkl'.format(input_id)))                  # DSSP dataframe\n",
    "missense_df = pd.read_pickle(os.path.join(results_dir, '{}_missense_df.pkl'.format(input_id)))              # missense dataframe\n",
    "consvar_df = pd.read_pickle(os.path.join(results_dir, '{}_ress_consvar.pkl'.format(input_id)))              # cons + var dataframe\n",
    "results_df = pd.read_pickle(os.path.join(results_dir, '{}_results_table.pkl'.format(input_id)))             # final results table\n",
    "\n",
    "#domains_file = os.path.join(results_dir, '{}_stamp.domains'.format(input_id))\n",
    "#stamp_out = os.path.join(results_dir, '{}_stamp.out'.format(input_id))\n",
    "#bs_attr = os.path.join(results_dir, '{}_BS_def_average_i_rel_0.5.attr'.format(input_id))\n",
    "#bs_col_command = os.path.join(results_dir, '{}_BS_def_average_i_rel_0.5.com'.format(input_id))"
   ]
  },
  {
   "cell_type": "markdown",
   "metadata": {},
   "source": [
    "## Residue level data"
   ]
  },
  {
   "cell_type": "markdown",
   "metadata": {},
   "source": [
    "### Amino acid"
   ]
  },
  {
   "cell_type": "code",
   "execution_count": 5,
   "metadata": {
    "jupyter": {
     "source_hidden": true
    }
   },
   "outputs": [
    {
     "name": "stdout",
     "output_type": "stream",
     "text": [
      "475\n",
      "11 P\n"
     ]
    }
   ],
   "source": [
    "print(len(ress_aa_dict))\n",
    "for k, v in ress_aa_dict.items():\n",
    "    print(k, v)\n",
    "    break"
   ]
  },
  {
   "cell_type": "markdown",
   "metadata": {},
   "source": [
    "### Relative Solvent Accessibility"
   ]
  },
  {
   "cell_type": "code",
   "execution_count": 6,
   "metadata": {
    "jupyter": {
     "source_hidden": true
    }
   },
   "outputs": [
    {
     "name": "stdout",
     "output_type": "stream",
     "text": [
      "475\n",
      "11 93.92\n"
     ]
    }
   ],
   "source": [
    "print(len(ress_rsa_dict))\n",
    "for k, v in ress_rsa_dict.items():\n",
    "    print(k, v)\n",
    "    break"
   ]
  },
  {
   "cell_type": "markdown",
   "metadata": {},
   "source": [
    "### Secondary structure"
   ]
  },
  {
   "cell_type": "code",
   "execution_count": 7,
   "metadata": {
    "jupyter": {
     "source_hidden": true
    }
   },
   "outputs": [
    {
     "name": "stdout",
     "output_type": "stream",
     "text": [
      "475\n",
      "11 C\n"
     ]
    }
   ],
   "source": [
    "print(len(ress_ss_dict))\n",
    "for k, v in ress_ss_dict.items():\n",
    "    print(k, v)\n",
    "    break"
   ]
  },
  {
   "cell_type": "markdown",
   "metadata": {},
   "source": [
    "### Binding site membership"
   ]
  },
  {
   "cell_type": "code",
   "execution_count": 8,
   "metadata": {
    "jupyter": {
     "source_hidden": true
    }
   },
   "outputs": [
    {
     "name": "stdout",
     "output_type": "stream",
     "text": [
      "38\n",
      "211 [1]\n"
     ]
    }
   ],
   "source": [
    "print(len(ress_bss_dict)) # this will equal to the number of ligand binding residues\n",
    "for k, v in ress_bss_dict.items():\n",
    "    print(k, v)\n",
    "    break"
   ]
  },
  {
   "cell_type": "markdown",
   "metadata": {},
   "source": [
    "## Ligand level data"
   ]
  },
  {
   "cell_type": "markdown",
   "metadata": {},
   "source": [
    "### Ligands"
   ]
  },
  {
   "cell_type": "code",
   "execution_count": 9,
   "metadata": {
    "jupyter": {
     "source_hidden": true
    }
   },
   "outputs": [
    {
     "name": "stdout",
     "output_type": "stream",
     "text": [
      "10\n"
     ]
    },
    {
     "data": {
      "text/html": [
       "<div>\n",
       "<style scoped>\n",
       "    .dataframe tbody tr th:only-of-type {\n",
       "        vertical-align: middle;\n",
       "    }\n",
       "\n",
       "    .dataframe tbody tr th {\n",
       "        vertical-align: top;\n",
       "    }\n",
       "\n",
       "    .dataframe thead th {\n",
       "        text-align: right;\n",
       "    }\n",
       "</style>\n",
       "<table border=\"1\" class=\"dataframe\">\n",
       "  <thead>\n",
       "    <tr style=\"text-align: right;\">\n",
       "      <th></th>\n",
       "      <th>struc_name</th>\n",
       "      <th>label_comp_id</th>\n",
       "      <th>label_asym_id</th>\n",
       "      <th>auth_seq_id</th>\n",
       "    </tr>\n",
       "  </thead>\n",
       "  <tbody>\n",
       "    <tr>\n",
       "      <th>3665</th>\n",
       "      <td>MKRS-x0178-pandda-model_ALL.pdb</td>\n",
       "      <td>LIG</td>\n",
       "      <td>B</td>\n",
       "      <td>1</td>\n",
       "    </tr>\n",
       "    <tr>\n",
       "      <th>3665</th>\n",
       "      <td>MKRS-x0182-pandda-model_q1_ALL.pdb</td>\n",
       "      <td>LIG</td>\n",
       "      <td>B</td>\n",
       "      <td>1</td>\n",
       "    </tr>\n",
       "    <tr>\n",
       "      <th>3619</th>\n",
       "      <td>MKRS-x0154-pandda-model_ALL.pdb</td>\n",
       "      <td>LIG</td>\n",
       "      <td>B</td>\n",
       "      <td>1</td>\n",
       "    </tr>\n",
       "    <tr>\n",
       "      <th>3655</th>\n",
       "      <td>MKRS-x0007-pandda-model_ALL.pdb</td>\n",
       "      <td>LIG</td>\n",
       "      <td>B</td>\n",
       "      <td>1</td>\n",
       "    </tr>\n",
       "    <tr>\n",
       "      <th>3665</th>\n",
       "      <td>MKRS-x0231-pandda-model_ALL.pdb</td>\n",
       "      <td>LIG</td>\n",
       "      <td>B</td>\n",
       "      <td>1</td>\n",
       "    </tr>\n",
       "  </tbody>\n",
       "</table>\n",
       "</div>"
      ],
      "text/plain": [
       "                              struc_name label_comp_id label_asym_id  \\\n",
       "3665     MKRS-x0178-pandda-model_ALL.pdb           LIG             B   \n",
       "3665  MKRS-x0182-pandda-model_q1_ALL.pdb           LIG             B   \n",
       "3619     MKRS-x0154-pandda-model_ALL.pdb           LIG             B   \n",
       "3655     MKRS-x0007-pandda-model_ALL.pdb           LIG             B   \n",
       "3665     MKRS-x0231-pandda-model_ALL.pdb           LIG             B   \n",
       "\n",
       "     auth_seq_id  \n",
       "3665           1  \n",
       "3665           1  \n",
       "3619           1  \n",
       "3655           1  \n",
       "3665           1  "
      ]
     },
     "execution_count": 9,
     "metadata": {},
     "output_type": "execute_result"
    }
   ],
   "source": [
    "print(len(lig_data_df))\n",
    "lig_data_df.head()"
   ]
  },
  {
   "cell_type": "markdown",
   "metadata": {},
   "source": [
    "### Ligand binding residues"
   ]
  },
  {
   "cell_type": "code",
   "execution_count": 10,
   "metadata": {
    "jupyter": {
     "source_hidden": true
    }
   },
   "outputs": [
    {
     "name": "stdout",
     "output_type": "stream",
     "text": [
      "10\n",
      "MKRS-x0003-pandda-model_ALL_LIG_1_B [257, 265, 266, 267, 269, 271, 422, 423, 424, 425, 476, 481, 491, 505, 264, 477, 478]\n"
     ]
    }
   ],
   "source": [
    "print(len(lig_ress_dict))\n",
    "for k, v in lig_ress_dict.items():\n",
    "    print(k, v)\n",
    "    break"
   ]
  },
  {
   "cell_type": "markdown",
   "metadata": {},
   "source": [
    "### Ligand binding interactions"
   ]
  },
  {
   "cell_type": "code",
   "execution_count": 11,
   "metadata": {
    "jupyter": {
     "source_hidden": true
    }
   },
   "outputs": [
    {
     "name": "stdout",
     "output_type": "stream",
     "text": [
      "10\n"
     ]
    },
    {
     "data": {
      "text/html": [
       "<div>\n",
       "<style scoped>\n",
       "    .dataframe tbody tr th:only-of-type {\n",
       "        vertical-align: middle;\n",
       "    }\n",
       "\n",
       "    .dataframe tbody tr th {\n",
       "        vertical-align: top;\n",
       "    }\n",
       "\n",
       "    .dataframe thead th {\n",
       "        text-align: right;\n",
       "    }\n",
       "</style>\n",
       "<table border=\"1\" class=\"dataframe\">\n",
       "  <thead>\n",
       "    <tr style=\"text-align: right;\">\n",
       "      <th></th>\n",
       "      <th>pdb_id</th>\n",
       "      <th>lig_name</th>\n",
       "      <th>lig_resnum</th>\n",
       "      <th>lig_chain</th>\n",
       "      <th>binding_res</th>\n",
       "      <th>lab</th>\n",
       "    </tr>\n",
       "  </thead>\n",
       "  <tbody>\n",
       "    <tr>\n",
       "      <th>0</th>\n",
       "      <td>MKRS-x0003-pandda-model_ALL</td>\n",
       "      <td>LIG</td>\n",
       "      <td>1</td>\n",
       "      <td>B</td>\n",
       "      <td>[257, 265, 266, 267, 269, 271, 422, 423, 424, ...</td>\n",
       "      <td>MKRS-x0003-pandda-model_ALL_LIG_1_B</td>\n",
       "    </tr>\n",
       "    <tr>\n",
       "      <th>1</th>\n",
       "      <td>MKRS-x0007-pandda-model_ALL</td>\n",
       "      <td>LIG</td>\n",
       "      <td>1</td>\n",
       "      <td>B</td>\n",
       "      <td>[211, 235, 239, 273, 275, 398, 399, 400, 401, ...</td>\n",
       "      <td>MKRS-x0007-pandda-model_ALL_LIG_1_B</td>\n",
       "    </tr>\n",
       "    <tr>\n",
       "      <th>2</th>\n",
       "      <td>MKRS-x0052-pandda-model_ALL</td>\n",
       "      <td>LIG</td>\n",
       "      <td>1</td>\n",
       "      <td>B</td>\n",
       "      <td>[235, 239, 275, 397, 398, 399, 400, 401, 427, ...</td>\n",
       "      <td>MKRS-x0052-pandda-model_ALL_LIG_1_B</td>\n",
       "    </tr>\n",
       "    <tr>\n",
       "      <th>3</th>\n",
       "      <td>MKRS-x0093_q2_ALL</td>\n",
       "      <td>LIG</td>\n",
       "      <td>1</td>\n",
       "      <td>B</td>\n",
       "      <td>[257, 265, 266, 269, 271, 422, 423, 424, 425, ...</td>\n",
       "      <td>MKRS-x0093_q2_ALL_LIG_1_B</td>\n",
       "    </tr>\n",
       "    <tr>\n",
       "      <th>4</th>\n",
       "      <td>MKRS-x0154-pandda-model_ALL</td>\n",
       "      <td>LIG</td>\n",
       "      <td>1</td>\n",
       "      <td>B</td>\n",
       "      <td>[269, 422, 478, 480, 481, 484, 491, 421]</td>\n",
       "      <td>MKRS-x0154-pandda-model_ALL_LIG_1_B</td>\n",
       "    </tr>\n",
       "  </tbody>\n",
       "</table>\n",
       "</div>"
      ],
      "text/plain": [
       "                        pdb_id lig_name  lig_resnum lig_chain  \\\n",
       "0  MKRS-x0003-pandda-model_ALL      LIG           1         B   \n",
       "1  MKRS-x0007-pandda-model_ALL      LIG           1         B   \n",
       "2  MKRS-x0052-pandda-model_ALL      LIG           1         B   \n",
       "3            MKRS-x0093_q2_ALL      LIG           1         B   \n",
       "4  MKRS-x0154-pandda-model_ALL      LIG           1         B   \n",
       "\n",
       "                                         binding_res  \\\n",
       "0  [257, 265, 266, 267, 269, 271, 422, 423, 424, ...   \n",
       "1  [211, 235, 239, 273, 275, 398, 399, 400, 401, ...   \n",
       "2  [235, 239, 275, 397, 398, 399, 400, 401, 427, ...   \n",
       "3  [257, 265, 266, 269, 271, 422, 423, 424, 425, ...   \n",
       "4           [269, 422, 478, 480, 481, 484, 491, 421]   \n",
       "\n",
       "                                   lab  \n",
       "0  MKRS-x0003-pandda-model_ALL_LIG_1_B  \n",
       "1  MKRS-x0007-pandda-model_ALL_LIG_1_B  \n",
       "2  MKRS-x0052-pandda-model_ALL_LIG_1_B  \n",
       "3            MKRS-x0093_q2_ALL_LIG_1_B  \n",
       "4  MKRS-x0154-pandda-model_ALL_LIG_1_B  "
      ]
     },
     "execution_count": 11,
     "metadata": {},
     "output_type": "execute_result"
    }
   ],
   "source": [
    "print(len(lig_inters_df))\n",
    "lig_inters_df.head()"
   ]
  },
  {
   "cell_type": "markdown",
   "metadata": {},
   "source": [
    "### Ligand binding site membership"
   ]
  },
  {
   "cell_type": "code",
   "execution_count": 12,
   "metadata": {
    "jupyter": {
     "source_hidden": true
    }
   },
   "outputs": [
    {
     "name": "stdout",
     "output_type": "stream",
     "text": [
      "10\n",
      "MKRS-x0003-pandda-model_ALL_LIG_1_B 0\n"
     ]
    }
   ],
   "source": [
    "print(len(lig_bs_dict))\n",
    "for k, v in lig_bs_dict.items():\n",
    "    print(k, v)\n",
    "    break"
   ]
  },
  {
   "cell_type": "markdown",
   "metadata": {},
   "source": [
    "## Binding site level data"
   ]
  },
  {
   "cell_type": "markdown",
   "metadata": {},
   "source": [
    "### Residue numbers"
   ]
  },
  {
   "cell_type": "code",
   "execution_count": 13,
   "metadata": {
    "jupyter": {
     "source_hidden": true
    }
   },
   "outputs": [
    {
     "name": "stdout",
     "output_type": "stream",
     "text": [
      "2\n",
      "0 [257, 264, 265, 266, 267, 268, 269, 270, 271, 415, 421, 422, 423, 424, 425, 476, 477, 478, 479, 480, 481, 484, 491, 505]\n"
     ]
    }
   ],
   "source": [
    "print(len(site_ress_dict))\n",
    "for k, v in site_ress_dict.items():\n",
    "    print(k, v)\n",
    "    break"
   ]
  },
  {
   "cell_type": "markdown",
   "metadata": {},
   "source": [
    "### AA profile"
   ]
  },
  {
   "cell_type": "code",
   "execution_count": 14,
   "metadata": {
    "jupyter": {
     "source_hidden": true
    }
   },
   "outputs": [
    {
     "name": "stdout",
     "output_type": "stream",
     "text": [
      "2\n",
      "0 ['R', 'T', 'H', 'S', 'P', 'E', 'F', 'S', 'M', 'D', 'I', 'E', 'L', 'A', 'T', 'G', 'M', 'G', 'I', 'D', 'R', 'M', 'I', 'K']\n"
     ]
    }
   ],
   "source": [
    "print(len(aa_profs_dict))\n",
    "for k, v in aa_profs_dict.items():\n",
    "    print(k, v)\n",
    "    break"
   ]
  },
  {
   "cell_type": "markdown",
   "metadata": {},
   "source": [
    "### SS profile"
   ]
  },
  {
   "cell_type": "code",
   "execution_count": 15,
   "metadata": {
    "jupyter": {
     "source_hidden": true
    }
   },
   "outputs": [
    {
     "name": "stdout",
     "output_type": "stream",
     "text": [
      "2\n",
      "0 ['C', 'T', 'B', 'C', 'S', 'E', 'E', 'E', 'E', 'E', 'E', 'E', 'E', 'E', 'E', 'E', 'E', 'E', 'H', 'H', 'H', 'H', 'H', 'C']\n"
     ]
    }
   ],
   "source": [
    "print(len(ss_profs_dict))\n",
    "for k, v in ss_profs_dict.items():\n",
    "    print(k, v)\n",
    "    break"
   ]
  },
  {
   "cell_type": "markdown",
   "metadata": {},
   "source": [
    "### RSA profile"
   ]
  },
  {
   "cell_type": "code",
   "execution_count": 16,
   "metadata": {
    "jupyter": {
     "source_hidden": true
    }
   },
   "outputs": [
    {
     "name": "stdout",
     "output_type": "stream",
     "text": [
      "2\n",
      "0 [19.72, 36.9, 48.8, 23.0, 33.62, 48.88, 18.64, 6.29, 7.83, 3.51, 17.7, 41.85, 3.38, 3.6, 10.18, 5.52, 2.8, 12.12, 0.0, 4.02, 24.49, 13.64, 14.09, 11.92]\n"
     ]
    }
   ],
   "source": [
    "print(len(rsa_profs_dict))\n",
    "for k, v in rsa_profs_dict.items():\n",
    "    print(k, v)\n",
    "    break"
   ]
  },
  {
   "cell_type": "markdown",
   "metadata": {},
   "source": [
    "## Visualising ligand site definition"
   ]
  },
  {
   "cell_type": "code",
   "execution_count": 17,
   "metadata": {},
   "outputs": [
    {
     "data": {
      "text/html": [
       "<div>\n",
       "<style scoped>\n",
       "    .dataframe tbody tr th:only-of-type {\n",
       "        vertical-align: middle;\n",
       "    }\n",
       "\n",
       "    .dataframe tbody tr th {\n",
       "        vertical-align: top;\n",
       "    }\n",
       "\n",
       "    .dataframe thead th {\n",
       "        text-align: right;\n",
       "    }\n",
       "</style>\n",
       "<table border=\"1\" class=\"dataframe\">\n",
       "  <thead>\n",
       "    <tr style=\"text-align: right;\">\n",
       "      <th></th>\n",
       "      <th>0</th>\n",
       "      <th>1</th>\n",
       "      <th>2</th>\n",
       "      <th>3</th>\n",
       "      <th>4</th>\n",
       "      <th>5</th>\n",
       "      <th>6</th>\n",
       "      <th>7</th>\n",
       "      <th>8</th>\n",
       "      <th>9</th>\n",
       "    </tr>\n",
       "  </thead>\n",
       "  <tbody>\n",
       "    <tr>\n",
       "      <th>0</th>\n",
       "      <td>0.000</td>\n",
       "      <td>0.875</td>\n",
       "      <td>1.0</td>\n",
       "      <td>0.059</td>\n",
       "      <td>0.375</td>\n",
       "      <td>0.071</td>\n",
       "      <td>0.000</td>\n",
       "      <td>0.250</td>\n",
       "      <td>0.333</td>\n",
       "      <td>0.176</td>\n",
       "    </tr>\n",
       "    <tr>\n",
       "      <th>1</th>\n",
       "      <td>0.875</td>\n",
       "      <td>0.000</td>\n",
       "      <td>0.0</td>\n",
       "      <td>0.875</td>\n",
       "      <td>1.000</td>\n",
       "      <td>0.857</td>\n",
       "      <td>0.875</td>\n",
       "      <td>1.000</td>\n",
       "      <td>1.000</td>\n",
       "      <td>0.938</td>\n",
       "    </tr>\n",
       "    <tr>\n",
       "      <th>2</th>\n",
       "      <td>1.000</td>\n",
       "      <td>0.000</td>\n",
       "      <td>0.0</td>\n",
       "      <td>1.000</td>\n",
       "      <td>1.000</td>\n",
       "      <td>1.000</td>\n",
       "      <td>1.000</td>\n",
       "      <td>1.000</td>\n",
       "      <td>1.000</td>\n",
       "      <td>1.000</td>\n",
       "    </tr>\n",
       "    <tr>\n",
       "      <th>3</th>\n",
       "      <td>0.059</td>\n",
       "      <td>0.875</td>\n",
       "      <td>1.0</td>\n",
       "      <td>0.000</td>\n",
       "      <td>0.250</td>\n",
       "      <td>0.071</td>\n",
       "      <td>0.000</td>\n",
       "      <td>0.167</td>\n",
       "      <td>0.250</td>\n",
       "      <td>0.118</td>\n",
       "    </tr>\n",
       "    <tr>\n",
       "      <th>4</th>\n",
       "      <td>0.375</td>\n",
       "      <td>1.000</td>\n",
       "      <td>1.0</td>\n",
       "      <td>0.250</td>\n",
       "      <td>0.000</td>\n",
       "      <td>0.500</td>\n",
       "      <td>0.375</td>\n",
       "      <td>0.375</td>\n",
       "      <td>0.375</td>\n",
       "      <td>0.250</td>\n",
       "    </tr>\n",
       "  </tbody>\n",
       "</table>\n",
       "</div>"
      ],
      "text/plain": [
       "       0      1    2      3      4      5      6      7      8      9\n",
       "0  0.000  0.875  1.0  0.059  0.375  0.071  0.000  0.250  0.333  0.176\n",
       "1  0.875  0.000  0.0  0.875  1.000  0.857  0.875  1.000  1.000  0.938\n",
       "2  1.000  0.000  0.0  1.000  1.000  1.000  1.000  1.000  1.000  1.000\n",
       "3  0.059  0.875  1.0  0.000  0.250  0.071  0.000  0.167  0.250  0.118\n",
       "4  0.375  1.000  1.0  0.250  0.000  0.500  0.375  0.375  0.375  0.250"
      ]
     },
     "execution_count": 17,
     "metadata": {},
     "output_type": "execute_result"
    }
   ],
   "source": [
    "rel_dist_df.head(5)"
   ]
  },
  {
   "cell_type": "code",
   "execution_count": 18,
   "metadata": {},
   "outputs": [],
   "source": [
    "clust_method = \"average\"\n",
    "clust_dist = 0.5\n",
    "sample_colors = [\"#e6194b\", \"#3cb44b\", \"#ffe119\", \"#4363d8\", \"#f58231\", \"#911eb4\", \"#46f0f0\", \"#f032e6\", \"#bcf60c\", \"#fabebe\", \"#008080\", \"#e6beff\", \"#9a6324\", \"#fffac8\", \"#800000\", \"#aaffc3\", \"#808000\", \"#ffd8b1\", \"#000075\", \"#808080\", \"#ffffff\", \"#000000\"]\n",
    "sample_colors_dict = {i: sample_colors[i] for i in range(len(sample_colors))}\n",
    "condensed_dist_mat = scipy.spatial.distance.squareform(rel_dist_df) # condensed distance matrix to be used for clustering\n",
    "linkage = scipy.cluster.hierarchy.linkage(condensed_dist_mat, method = clust_method, optimal_ordering = True)\n",
    "cut_tree = scipy.cluster.hierarchy.cut_tree(linkage, height = clust_dist)\n",
    "cluster_ids = [int(cut) for cut in cut_tree]\n",
    "labs = lig_inters_df.lab.tolist()\n",
    "cluster_id_dict = {labs[i]: cluster_ids[i] for i in range(len(labs))} #dictionary indicating membership for each lig"
   ]
  },
  {
   "cell_type": "code",
   "execution_count": 19,
   "metadata": {},
   "outputs": [
    {
     "data": {
      "image/png": "[encoded data removed]",
      "text/plain": [
       "<Figure size 3000x750 with 1 Axes>"
      ]
     },
     "metadata": {},
     "output_type": "display_data"
    }
   ],
   "source": [
    "fig = plt.figure(figsize=(30, 7.5), dpi = 100)\n",
    "matplotlib.rcParams['lines.linewidth'] = 2\n",
    "dd = scipy.cluster.hierarchy.dendrogram(linkage, labels = labs, leaf_font_size = 10, color_threshold = clust_dist, above_threshold_color = \"k\")\n",
    "# = [cluster_id_dict[d] for d in dd[\"ivl\"]]\n",
    "# = sorted(set(x), key=x.index)\n",
    "#ols_list = [sample_colors[i] for i in x]\n",
    "#cipy.cluster.hierarchy.set_link_color_palette(cols_list)\n",
    "\n",
    "#[site_cluster_dict[k] for k in dd[\"ivl\"]]\n",
    "#if out != None:\n",
    "#    plt.savefig(out)\n",
    "    #print(\"Figure was successfully saved!\")\n",
    "#plt.ylim(0,20)\n",
    "plt.axhline(y=clust_dist, c = \"k\", linestyle = \"--\")\n",
    "#plt.ylim(-0.1)\n",
    "plt.show()"
   ]
  },
  {
   "cell_type": "code",
   "execution_count": 20,
   "metadata": {},
   "outputs": [
    {
     "data": {
      "image/png": "[encoded data removed]",
      "text/plain": [
       "<Figure size 600x600 with 4 Axes>"
      ]
     },
     "metadata": {},
     "output_type": "display_data"
    }
   ],
   "source": [
    "sns.clustermap(rel_dist_df, xticklabels = False, yticklabels = False, row_linkage=linkage, col_linkage=linkage, figsize=(6,6), cmap = \"Greys_r\")\n",
    "#plt.savefig('./figs/fig_name.png', dpi = 600)\n",
    "plt.show()"
   ]
  },
  {
   "cell_type": "markdown",
   "metadata": {},
   "source": [
    "## Results table analysis"
   ]
  },
  {
   "cell_type": "code",
   "execution_count": 21,
   "metadata": {},
   "outputs": [
    {
     "name": "stdout",
     "output_type": "stream",
     "text": [
      "Minimum occupancy: 35\n",
      "Average occupancy: 1371\n",
      "Maximum occupancy: 1710\n"
     ]
    }
   ],
   "source": [
    "print(\"Minimum occupancy: {}\".format(results_df.occ.min()))\n",
    "print(\"Average occupancy: {}\".format(round(results_df.occ.mean())))\n",
    "print(\"Maximum occupancy: {}\".format(results_df.occ.max()))"
   ]
  },
  {
   "cell_type": "code",
   "execution_count": 22,
   "metadata": {},
   "outputs": [
    {
     "name": "stdout",
     "output_type": "stream",
     "text": [
      "Minimum HUMAN occupancy: 0\n",
      "Average HUMAN occupancy: 4\n",
      "Maximum HUMAN occupancy: 6\n"
     ]
    }
   ],
   "source": [
    "print(\"Minimum HUMAN occupancy: {}\".format(results_df.human_occ.min()))\n",
    "print(\"Average HUMAN occupancy: {}\".format(round(results_df.human_occ.mean())))\n",
    "print(\"Maximum HUMAN occupancy: {}\".format(results_df.human_occ.max()))"
   ]
  },
  {
   "cell_type": "markdown",
   "metadata": {},
   "source": [
    "## Conservation & occupancy on target sequence (FULL MSA)"
   ]
  },
  {
   "cell_type": "code",
   "execution_count": 23,
   "metadata": {},
   "outputs": [
    {
     "data": {
      "image/png": "[encoded data removed]",
      "text/plain": [
       "<Figure size 2000x750 with 2 Axes>"
      ]
     },
     "metadata": {},
     "output_type": "display_data"
    }
   ],
   "source": [
    "# Create the figure and the first axis (ax1)\n",
    "\n",
    "plt.rcParams.update({\"axes.linewidth\": 0.5})\n",
    "\n",
    "fig, ax1 = plt.subplots(figsize=(20, 7.5))\n",
    "\n",
    "# Plot a barplot on ax1\n",
    "ax1.bar(results_df['UniProt_ResNum'], results_df['abs_norm_shenkin'], color='darkorchid', label='Abs Norm Shenkin', width = 1)\n",
    "\n",
    "# Make the y-axis label, ticks and tick labels match the line color.\n",
    "ax1.set_xlabel('UniProt Residue Number', fontsize = 15)\n",
    "ax1.set_ylabel('Abs Norm Shenkin', color='darkorchid', fontsize = 15)\n",
    "ax1.tick_params('x', colors='k', labelsize=12)\n",
    "ax1.tick_params('y', colors='darkorchid', labelsize=12)\n",
    "ax1.axhline(y = 25, linestyle = '--', c = 'purple')\n",
    "ax1.axhline(y = 75, linestyle = '--', c = 'purple')\n",
    "# Create the second axis (ax2) based on the first axis (ax1)\n",
    "ax2 = ax1.twinx()\n",
    "\n",
    "# Plot a scatterplot + lineplot on ax2\n",
    "ax2.scatter(results_df['UniProt_ResNum'], results_df['occ_pct'], color='orange', marker='o', label='Occ %', s = 10)\n",
    "ax2.plot(results_df['UniProt_ResNum'], results_df['occ_pct'], color='orange', linewidth = 1.25)\n",
    "\n",
    "# Make the y-axis label, ticks and tick labels match the line color.\n",
    "ax2.set_ylabel('Occ %', color='orange', fontsize = 15)\n",
    "ax2.tick_params('y', colors='orange', labelsize=12)\n",
    "ax2.axhline(y = 50, linestyle = '--', c = 'darkorange')\n",
    "\n",
    "plt.xlim(results_df.UniProt_ResNum.min() - 1, results_df.UniProt_ResNum.max() + 1)\n",
    "\n",
    "# Create legends\n",
    "ax1.legend(loc='upper left', bbox_to_anchor=(0.0, 1.0))\n",
    "ax2.legend(loc='upper left', bbox_to_anchor=(0.0, 0.95))\n",
    "\n",
    "# Show the plot\n",
    "fig.tight_layout()\n",
    "plt.show()\n"
   ]
  },
  {
   "cell_type": "markdown",
   "metadata": {},
   "source": [
    "## Conservation & occupancy on target sequence (HUMAN MSA)"
   ]
  },
  {
   "cell_type": "code",
   "execution_count": 24,
   "metadata": {},
   "outputs": [
    {
     "data": {
      "image/png": "[encoded data removed]",
      "text/plain": [
       "<Figure size 2000x750 with 2 Axes>"
      ]
     },
     "metadata": {},
     "output_type": "display_data"
    }
   ],
   "source": [
    "# Create the figure and the first axis (ax1)\n",
    "\n",
    "plt.rcParams.update({\"axes.linewidth\": 0.5})\n",
    "\n",
    "fig, ax1 = plt.subplots(figsize=(20, 7.5))\n",
    "\n",
    "# Plot a barplot on ax1\n",
    "ax1.bar(results_df['UniProt_ResNum'], results_df['human_shenkin'], color='darkorchid', label='Shenkin (HUMAN)', width = 1)\n",
    "\n",
    "# Make the y-axis label, ticks and tick labels match the line color.\n",
    "ax1.set_xlabel('UniProt Residue Number', fontsize = 15)\n",
    "ax1.set_ylabel('Shenkin (HUMAN)', color='darkorchid', fontsize = 15)\n",
    "ax1.tick_params('x', colors='k', labelsize=12)\n",
    "ax1.tick_params('y', colors='darkorchid', labelsize=12)\n",
    "ax1.axhline(y = 25, linestyle = '--', c = 'purple')\n",
    "ax1.axhline(y = 75, linestyle = '--', c = 'purple')\n",
    "# Create the second axis (ax2) based on the first axis (ax1)\n",
    "ax2 = ax1.twinx()\n",
    "\n",
    "# Plot a scatterplot + lineplot on ax2\n",
    "ax2.scatter(results_df['UniProt_ResNum'], results_df['human_occ_pct'], color='orange', marker='o', label='Occ % (HUMAN)', s = 10)\n",
    "ax2.plot(results_df['UniProt_ResNum'], results_df['human_occ_pct'], color='orange', linewidth = 1.25)\n",
    "\n",
    "# Make the y-axis label, ticks and tick labels match the line color.\n",
    "ax2.set_ylabel('Occ % (HUMAN)', color='orange', fontsize = 15)\n",
    "ax2.tick_params('y', colors='orange', labelsize=12)\n",
    "ax2.axhline(y = 50, linestyle = '--', c = 'darkorange')\n",
    "\n",
    "plt.xlim(results_df.UniProt_ResNum.min() - 1, results_df.UniProt_ResNum.max() + 1)\n",
    "\n",
    "# Create legends\n",
    "ax1.legend(loc='upper left', bbox_to_anchor=(0.0, 1.0))\n",
    "ax2.legend(loc='upper left', bbox_to_anchor=(0.0, 0.95))\n",
    "\n",
    "# Show the plot\n",
    "fig.tight_layout()\n",
    "plt.show()\n"
   ]
  },
  {
   "cell_type": "markdown",
   "metadata": {},
   "source": [
    "### Binding sites analysis"
   ]
  },
  {
   "cell_type": "code",
   "execution_count": 25,
   "metadata": {},
   "outputs": [],
   "source": [
    "binding_ress_df = results_df.query('binding_sites == binding_sites').copy()"
   ]
  },
  {
   "cell_type": "code",
   "execution_count": 26,
   "metadata": {},
   "outputs": [],
   "source": [
    "binding_ress_df = binding_ress_df.explode(\"binding_sites\")"
   ]
  },
  {
   "cell_type": "code",
   "execution_count": 27,
   "metadata": {},
   "outputs": [],
   "source": [
    "un_bss = sorted(binding_ress_df.binding_sites.unique().tolist())"
   ]
  },
  {
   "cell_type": "code",
   "execution_count": 28,
   "metadata": {},
   "outputs": [
    {
     "data": {
      "text/plain": [
       "Index(['UniProt_ResNum', 'alignment_column', 'shenkin', 'occ', 'gaps',\n",
       "       'occ_pct', 'gaps_pct', 'rel_norm_shenkin', 'abs_norm_shenkin',\n",
       "       'human_shenkin', 'human_occ', 'human_gaps', 'human_occ_pct',\n",
       "       'human_gaps_pct', 'variants', 'oddsratio', 'pvalue', 'se_OR', 'AA',\n",
       "       'RSA', 'SS', 'binding_sites'],\n",
       "      dtype='object')"
      ]
     },
     "execution_count": 28,
     "metadata": {},
     "output_type": "execute_result"
    }
   ],
   "source": [
    "results_df.columns"
   ]
  },
  {
   "cell_type": "code",
   "execution_count": 29,
   "metadata": {},
   "outputs": [],
   "source": [
    "sizes, occs, shenks, hum_occs, hum_shenks, ORs, RSAs = [[], [], [], [], [], [], []]\n",
    "for bs in un_bss:  \n",
    "    bs_df = binding_ress_df.query('binding_sites == @bs')\n",
    "    sizes.append(len(bs_df))\n",
    "    occs.append(bs_df.occ_pct.mean())\n",
    "    shenks.append(bs_df.abs_norm_shenkin.mean())\n",
    "    hum_occs.append(bs_df.human_occ_pct.mean())\n",
    "    hum_shenks.append(bs_df.human_shenkin.mean())\n",
    "    ORs.append(bs_df.oddsratio.mean())\n",
    "    RSAs.append(bs_df.RSA.mean())\n",
    "\n",
    "bss_df = pd.DataFrame(\n",
    "    zip(un_bss, sizes, occs, shenks, hum_occs, hum_shenks, ORs, RSAs),\n",
    "    columns=[\n",
    "        \"bs_id\", \"size\", \"occ_pct\", \"abs_norm_shenk\", \"human_occ_pct\",\n",
    "        \"human_shenk\", \"OR\", \"RSA\"\n",
    "    ]\n",
    ").round(2)\n",
    "bss_df[\"color\"] = bss_df.bs_id.map(sample_colors_dict)"
   ]
  },
  {
   "cell_type": "code",
   "execution_count": 30,
   "metadata": {},
   "outputs": [
    {
     "data": {
      "text/html": [
       "<div>\n",
       "<style scoped>\n",
       "    .dataframe tbody tr th:only-of-type {\n",
       "        vertical-align: middle;\n",
       "    }\n",
       "\n",
       "    .dataframe tbody tr th {\n",
       "        vertical-align: top;\n",
       "    }\n",
       "\n",
       "    .dataframe thead th {\n",
       "        text-align: right;\n",
       "    }\n",
       "</style>\n",
       "<table border=\"1\" class=\"dataframe\">\n",
       "  <thead>\n",
       "    <tr style=\"text-align: right;\">\n",
       "      <th></th>\n",
       "      <th>bs_id</th>\n",
       "      <th>size</th>\n",
       "      <th>occ_pct</th>\n",
       "      <th>abs_norm_shenk</th>\n",
       "      <th>human_occ_pct</th>\n",
       "      <th>human_shenk</th>\n",
       "      <th>OR</th>\n",
       "      <th>RSA</th>\n",
       "      <th>color</th>\n",
       "    </tr>\n",
       "  </thead>\n",
       "  <tbody>\n",
       "    <tr>\n",
       "      <th>0</th>\n",
       "      <td>0</td>\n",
       "      <td>23</td>\n",
       "      <td>67.85</td>\n",
       "      <td>14.38</td>\n",
       "      <td>77.02</td>\n",
       "      <td>22.39</td>\n",
       "      <td>0.83</td>\n",
       "      <td>17.42</td>\n",
       "      <td>#e6194b</td>\n",
       "    </tr>\n",
       "    <tr>\n",
       "      <th>1</th>\n",
       "      <td>1</td>\n",
       "      <td>16</td>\n",
       "      <td>64.49</td>\n",
       "      <td>18.37</td>\n",
       "      <td>73.22</td>\n",
       "      <td>26.94</td>\n",
       "      <td>0.72</td>\n",
       "      <td>5.78</td>\n",
       "      <td>#3cb44b</td>\n",
       "    </tr>\n",
       "  </tbody>\n",
       "</table>\n",
       "</div>"
      ],
      "text/plain": [
       "   bs_id  size  occ_pct  abs_norm_shenk  human_occ_pct  human_shenk    OR  \\\n",
       "0      0    23    67.85           14.38          77.02        22.39  0.83   \n",
       "1      1    16    64.49           18.37          73.22        26.94  0.72   \n",
       "\n",
       "     RSA    color  \n",
       "0  17.42  #e6194b  \n",
       "1   5.78  #3cb44b  "
      ]
     },
     "execution_count": 30,
     "metadata": {},
     "output_type": "execute_result"
    }
   ],
   "source": [
    "bss_df"
   ]
  },
  {
   "cell_type": "markdown",
   "metadata": {},
   "source": [
    "### Average Missense enrichment vs divergence per site"
   ]
  },
  {
   "cell_type": "code",
   "execution_count": 31,
   "metadata": {},
   "outputs": [
    {
     "data": {
      "image/png": "[encoded data removed]",
      "text/plain": [
       "<Figure size 640x480 with 1 Axes>"
      ]
     },
     "metadata": {},
     "output_type": "display_data"
    }
   ],
   "source": [
    "sns.scatterplot(\n",
    "    data = bss_df,\n",
    "    x = \"abs_norm_shenk\",\n",
    "    y = \"RSA\",\n",
    "    hue = \"bs_id\",\n",
    "    palette = bss_df[\"color\"].tolist(),\n",
    "    s = 100\n",
    ")\n",
    "#plt.yscale('log')\n",
    "plt.axhline(y=25, linestyle = \"--\", lw = 1, c = \"gray\")\n",
    "plt.axvline(x = 25, linestyle = \"--\", lw = 1, c = \"gray\")\n",
    "plt.axvline(x = 50, linestyle = \"--\", lw = 1, c = \"gray\")\n",
    "\n",
    "plt.ylim(0,100)\n",
    "plt.legend(bbox_to_anchor=(1.05, 1), loc='upper left')\n",
    "\n",
    "plt.show()"
   ]
  },
  {
   "cell_type": "code",
   "execution_count": 32,
   "metadata": {},
   "outputs": [
    {
     "name": "stdout",
     "output_type": "stream",
     "text": [
      "0.0\n",
      "2.33\n",
      "4.52\n",
      "39.62\n"
     ]
    }
   ],
   "source": [
    "print(binding_ress_df.oddsratio.min())\n",
    "print(binding_ress_df.oddsratio.max())\n",
    "\n",
    "print(binding_ress_df.abs_norm_shenkin.min())\n",
    "print(binding_ress_df.abs_norm_shenkin.max())"
   ]
  },
  {
   "cell_type": "code",
   "execution_count": 33,
   "metadata": {},
   "outputs": [
    {
     "data": {
      "text/html": [
       "<div>\n",
       "<style scoped>\n",
       "    .dataframe tbody tr th:only-of-type {\n",
       "        vertical-align: middle;\n",
       "    }\n",
       "\n",
       "    .dataframe tbody tr th {\n",
       "        vertical-align: top;\n",
       "    }\n",
       "\n",
       "    .dataframe thead th {\n",
       "        text-align: right;\n",
       "    }\n",
       "</style>\n",
       "<table border=\"1\" class=\"dataframe\">\n",
       "  <thead>\n",
       "    <tr style=\"text-align: right;\">\n",
       "      <th></th>\n",
       "      <th>UniProt_ResNum</th>\n",
       "      <th>alignment_column</th>\n",
       "      <th>shenkin</th>\n",
       "      <th>occ</th>\n",
       "      <th>gaps</th>\n",
       "      <th>occ_pct</th>\n",
       "      <th>gaps_pct</th>\n",
       "      <th>rel_norm_shenkin</th>\n",
       "      <th>abs_norm_shenkin</th>\n",
       "      <th>human_shenkin</th>\n",
       "      <th>...</th>\n",
       "      <th>human_occ_pct</th>\n",
       "      <th>human_gaps_pct</th>\n",
       "      <th>variants</th>\n",
       "      <th>oddsratio</th>\n",
       "      <th>pvalue</th>\n",
       "      <th>se_OR</th>\n",
       "      <th>AA</th>\n",
       "      <th>RSA</th>\n",
       "      <th>SS</th>\n",
       "      <th>binding_sites</th>\n",
       "    </tr>\n",
       "  </thead>\n",
       "  <tbody>\n",
       "    <tr>\n",
       "      <th>378</th>\n",
       "      <td>400</td>\n",
       "      <td>1025</td>\n",
       "      <td>33.90</td>\n",
       "      <td>1425</td>\n",
       "      <td>1011</td>\n",
       "      <td>58.50</td>\n",
       "      <td>41.50</td>\n",
       "      <td>49.46</td>\n",
       "      <td>24.47</td>\n",
       "      <td>33.90</td>\n",
       "      <td>...</td>\n",
       "      <td>71.43</td>\n",
       "      <td>28.57</td>\n",
       "      <td>0</td>\n",
       "      <td>0.0</td>\n",
       "      <td>0.17</td>\n",
       "      <td>2.9</td>\n",
       "      <td>L</td>\n",
       "      <td>7.98</td>\n",
       "      <td>T</td>\n",
       "      <td>1</td>\n",
       "    </tr>\n",
       "    <tr>\n",
       "      <th>400</th>\n",
       "      <td>422</td>\n",
       "      <td>1088</td>\n",
       "      <td>11.68</td>\n",
       "      <td>1616</td>\n",
       "      <td>820</td>\n",
       "      <td>66.34</td>\n",
       "      <td>33.66</td>\n",
       "      <td>10.07</td>\n",
       "      <td>4.98</td>\n",
       "      <td>11.68</td>\n",
       "      <td>...</td>\n",
       "      <td>71.43</td>\n",
       "      <td>28.57</td>\n",
       "      <td>0</td>\n",
       "      <td>0.0</td>\n",
       "      <td>0.17</td>\n",
       "      <td>2.9</td>\n",
       "      <td>E</td>\n",
       "      <td>41.85</td>\n",
       "      <td>E</td>\n",
       "      <td>0</td>\n",
       "    </tr>\n",
       "    <tr>\n",
       "      <th>403</th>\n",
       "      <td>425</td>\n",
       "      <td>1091</td>\n",
       "      <td>23.73</td>\n",
       "      <td>1617</td>\n",
       "      <td>819</td>\n",
       "      <td>66.38</td>\n",
       "      <td>33.62</td>\n",
       "      <td>31.43</td>\n",
       "      <td>15.55</td>\n",
       "      <td>23.73</td>\n",
       "      <td>...</td>\n",
       "      <td>71.43</td>\n",
       "      <td>28.57</td>\n",
       "      <td>0</td>\n",
       "      <td>0.0</td>\n",
       "      <td>0.17</td>\n",
       "      <td>2.9</td>\n",
       "      <td>T</td>\n",
       "      <td>10.18</td>\n",
       "      <td>E</td>\n",
       "      <td>0</td>\n",
       "    </tr>\n",
       "    <tr>\n",
       "      <th>403</th>\n",
       "      <td>425</td>\n",
       "      <td>1091</td>\n",
       "      <td>23.73</td>\n",
       "      <td>1617</td>\n",
       "      <td>819</td>\n",
       "      <td>66.38</td>\n",
       "      <td>33.62</td>\n",
       "      <td>31.43</td>\n",
       "      <td>15.55</td>\n",
       "      <td>23.73</td>\n",
       "      <td>...</td>\n",
       "      <td>71.43</td>\n",
       "      <td>28.57</td>\n",
       "      <td>0</td>\n",
       "      <td>0.0</td>\n",
       "      <td>0.17</td>\n",
       "      <td>2.9</td>\n",
       "      <td>T</td>\n",
       "      <td>10.18</td>\n",
       "      <td>E</td>\n",
       "      <td>1</td>\n",
       "    </tr>\n",
       "    <tr>\n",
       "      <th>465</th>\n",
       "      <td>491</td>\n",
       "      <td>1181</td>\n",
       "      <td>16.81</td>\n",
       "      <td>1612</td>\n",
       "      <td>824</td>\n",
       "      <td>66.17</td>\n",
       "      <td>33.83</td>\n",
       "      <td>19.16</td>\n",
       "      <td>9.48</td>\n",
       "      <td>16.81</td>\n",
       "      <td>...</td>\n",
       "      <td>71.43</td>\n",
       "      <td>28.57</td>\n",
       "      <td>0</td>\n",
       "      <td>0.0</td>\n",
       "      <td>0.17</td>\n",
       "      <td>2.9</td>\n",
       "      <td>I</td>\n",
       "      <td>14.09</td>\n",
       "      <td>H</td>\n",
       "      <td>0</td>\n",
       "    </tr>\n",
       "  </tbody>\n",
       "</table>\n",
       "<p>5 rows × 22 columns</p>\n",
       "</div>"
      ],
      "text/plain": [
       "     UniProt_ResNum  alignment_column  shenkin   occ  gaps  occ_pct  gaps_pct  \\\n",
       "378             400              1025    33.90  1425  1011    58.50     41.50   \n",
       "400             422              1088    11.68  1616   820    66.34     33.66   \n",
       "403             425              1091    23.73  1617   819    66.38     33.62   \n",
       "403             425              1091    23.73  1617   819    66.38     33.62   \n",
       "465             491              1181    16.81  1612   824    66.17     33.83   \n",
       "\n",
       "     rel_norm_shenkin  abs_norm_shenkin  human_shenkin  ...  human_occ_pct  \\\n",
       "378             49.46             24.47          33.90  ...          71.43   \n",
       "400             10.07              4.98          11.68  ...          71.43   \n",
       "403             31.43             15.55          23.73  ...          71.43   \n",
       "403             31.43             15.55          23.73  ...          71.43   \n",
       "465             19.16              9.48          16.81  ...          71.43   \n",
       "\n",
       "     human_gaps_pct  variants  oddsratio  pvalue  se_OR  AA    RSA SS  \\\n",
       "378           28.57         0        0.0    0.17    2.9   L   7.98  T   \n",
       "400           28.57         0        0.0    0.17    2.9   E  41.85  E   \n",
       "403           28.57         0        0.0    0.17    2.9   T  10.18  E   \n",
       "403           28.57         0        0.0    0.17    2.9   T  10.18  E   \n",
       "465           28.57         0        0.0    0.17    2.9   I  14.09  H   \n",
       "\n",
       "     binding_sites  \n",
       "378              1  \n",
       "400              0  \n",
       "403              0  \n",
       "403              1  \n",
       "465              0  \n",
       "\n",
       "[5 rows x 22 columns]"
      ]
     },
     "execution_count": 33,
     "metadata": {},
     "output_type": "execute_result"
    }
   ],
   "source": [
    "binding_ress_df.query('oddsratio == 0')"
   ]
  },
  {
   "cell_type": "markdown",
   "metadata": {},
   "source": [
    "### Inspecting binding site ligand membership"
   ]
  },
  {
   "cell_type": "code",
   "execution_count": 34,
   "metadata": {},
   "outputs": [],
   "source": [
    "bs_ligs_dict = {bs_id: sorted(bs_rows.lig_name.tolist()) for bs_id, bs_rows in bs_def_df.groupby(\"binding_site\")}"
   ]
  },
  {
   "cell_type": "code",
   "execution_count": 35,
   "metadata": {},
   "outputs": [
    {
     "name": "stdout",
     "output_type": "stream",
     "text": [
      "0: ['LIG', 'LIG', 'LIG', 'LIG', 'LIG', 'LIG', 'LIG', 'LIG']\n",
      "1: ['LIG', 'LIG']\n"
     ]
    }
   ],
   "source": [
    "for k, v in bs_ligs_dict.items():\n",
    "    print(\"{}: {}\".format(k, v))"
   ]
  },
  {
   "cell_type": "code",
   "execution_count": 36,
   "metadata": {},
   "outputs": [
    {
     "data": {
      "text/html": [
       "<div>\n",
       "<style scoped>\n",
       "    .dataframe tbody tr th:only-of-type {\n",
       "        vertical-align: middle;\n",
       "    }\n",
       "\n",
       "    .dataframe tbody tr th {\n",
       "        vertical-align: top;\n",
       "    }\n",
       "\n",
       "    .dataframe thead th {\n",
       "        text-align: right;\n",
       "    }\n",
       "</style>\n",
       "<table border=\"1\" class=\"dataframe\">\n",
       "  <thead>\n",
       "    <tr style=\"text-align: right;\">\n",
       "      <th></th>\n",
       "      <th>UniProt_ResNum</th>\n",
       "      <th>alignment_column</th>\n",
       "      <th>shenkin</th>\n",
       "      <th>occ</th>\n",
       "      <th>gaps</th>\n",
       "      <th>occ_pct</th>\n",
       "      <th>gaps_pct</th>\n",
       "      <th>rel_norm_shenkin</th>\n",
       "      <th>abs_norm_shenkin</th>\n",
       "      <th>human_shenkin</th>\n",
       "      <th>...</th>\n",
       "      <th>human_occ_pct</th>\n",
       "      <th>human_gaps_pct</th>\n",
       "      <th>variants</th>\n",
       "      <th>oddsratio</th>\n",
       "      <th>pvalue</th>\n",
       "      <th>se_OR</th>\n",
       "      <th>AA</th>\n",
       "      <th>RSA</th>\n",
       "      <th>SS</th>\n",
       "      <th>binding_sites</th>\n",
       "    </tr>\n",
       "  </thead>\n",
       "  <tbody>\n",
       "  </tbody>\n",
       "</table>\n",
       "<p>0 rows × 22 columns</p>\n",
       "</div>"
      ],
      "text/plain": [
       "Empty DataFrame\n",
       "Columns: [UniProt_ResNum, alignment_column, shenkin, occ, gaps, occ_pct, gaps_pct, rel_norm_shenkin, abs_norm_shenkin, human_shenkin, human_occ, human_gaps, human_occ_pct, human_gaps_pct, variants, oddsratio, pvalue, se_OR, AA, RSA, SS, binding_sites]\n",
       "Index: []\n",
       "\n",
       "[0 rows x 22 columns]"
      ]
     },
     "execution_count": 36,
     "metadata": {},
     "output_type": "execute_result"
    }
   ],
   "source": [
    "binding_ress_df.query('binding_sites == 6 & abs_norm_shenkin > 50 & oddsratio < 1')"
   ]
  },
  {
   "cell_type": "code",
   "execution_count": 37,
   "metadata": {},
   "outputs": [
    {
     "data": {
      "text/html": [
       "<div>\n",
       "<style scoped>\n",
       "    .dataframe tbody tr th:only-of-type {\n",
       "        vertical-align: middle;\n",
       "    }\n",
       "\n",
       "    .dataframe tbody tr th {\n",
       "        vertical-align: top;\n",
       "    }\n",
       "\n",
       "    .dataframe thead th {\n",
       "        text-align: right;\n",
       "    }\n",
       "</style>\n",
       "<table border=\"1\" class=\"dataframe\">\n",
       "  <thead>\n",
       "    <tr style=\"text-align: right;\">\n",
       "      <th></th>\n",
       "      <th>UniProt_ResNum</th>\n",
       "      <th>alignment_column</th>\n",
       "      <th>shenkin</th>\n",
       "      <th>occ</th>\n",
       "      <th>gaps</th>\n",
       "      <th>occ_pct</th>\n",
       "      <th>gaps_pct</th>\n",
       "      <th>rel_norm_shenkin</th>\n",
       "      <th>abs_norm_shenkin</th>\n",
       "      <th>human_shenkin</th>\n",
       "      <th>...</th>\n",
       "      <th>human_occ_pct</th>\n",
       "      <th>human_gaps_pct</th>\n",
       "      <th>variants</th>\n",
       "      <th>oddsratio</th>\n",
       "      <th>pvalue</th>\n",
       "      <th>se_OR</th>\n",
       "      <th>AA</th>\n",
       "      <th>RSA</th>\n",
       "      <th>SS</th>\n",
       "      <th>binding_sites</th>\n",
       "    </tr>\n",
       "  </thead>\n",
       "  <tbody>\n",
       "  </tbody>\n",
       "</table>\n",
       "<p>0 rows × 22 columns</p>\n",
       "</div>"
      ],
      "text/plain": [
       "Empty DataFrame\n",
       "Columns: [UniProt_ResNum, alignment_column, shenkin, occ, gaps, occ_pct, gaps_pct, rel_norm_shenkin, abs_norm_shenkin, human_shenkin, human_occ, human_gaps, human_occ_pct, human_gaps_pct, variants, oddsratio, pvalue, se_OR, AA, RSA, SS, binding_sites]\n",
       "Index: []\n",
       "\n",
       "[0 rows x 22 columns]"
      ]
     },
     "execution_count": 37,
     "metadata": {},
     "output_type": "execute_result"
    }
   ],
   "source": [
    "binding_ress_df.query('binding_sites == 12 & pvalue < 0.1')"
   ]
  },
  {
   "cell_type": "markdown",
   "metadata": {},
   "source": [
    "### Plotting Missense enrichment vs Divergence for each site"
   ]
  },
  {
   "cell_type": "code",
   "execution_count": 38,
   "metadata": {},
   "outputs": [
    {
     "data": {
      "image/png": "[encoded data removed]",
      "text/plain": [
       "<Figure size 640x480 with 1 Axes>"
      ]
     },
     "metadata": {},
     "output_type": "display_data"
    },
    {
     "data": {
      "image/png": "[encoded data removed]",
      "text/plain": [
       "<Figure size 640x480 with 1 Axes>"
      ]
     },
     "metadata": {},
     "output_type": "display_data"
    }
   ],
   "source": [
    "for bs in un_bss:  \n",
    "    bs_df = binding_ress_df.query('binding_sites == @bs')\n",
    "    sns.scatterplot(\n",
    "        data = bs_df,\n",
    "        x = \"abs_norm_shenkin\",\n",
    "        y = \"RSA\",\n",
    "        hue = \"binding_sites\",\n",
    "        palette = [sample_colors[bs]],\n",
    "        s = 100\n",
    "    )\n",
    "    #print([sample_colors[bs] for i in range(len(bs_df))])\n",
    "    #plt.yscale('log')\n",
    "    plt.axhline(y=25, linestyle = \"--\", lw = 1, c = \"gray\")\n",
    "    plt.axvline(x = 25, linestyle = \"--\", lw = 1, c = \"gray\")\n",
    "    plt.axvline(x = 50, linestyle = \"--\", lw = 1, c = \"gray\")\n",
    "    plt.axvline(x = 75, linestyle = \"--\", lw = 1, c = \"gray\")\n",
    "    \n",
    "    plt.xlim(0,100)\n",
    "    plt.ylim(0,100)\n",
    "\n",
    "    plt.legend(bbox_to_anchor=(1.05, 1), loc='upper left')\n",
    "\n",
    "    plt.show()"
   ]
  },
  {
   "cell_type": "markdown",
   "metadata": {},
   "source": [
    "## FUNCTIONAL SCORE PER SITE"
   ]
  },
  {
   "cell_type": "code",
   "execution_count": 39,
   "metadata": {
    "collapsed": true,
    "jupyter": {
     "outputs_hidden": true
    }
   },
   "outputs": [
    {
     "data": {
      "text/plain": [
       "{0: [19.72,\n",
       "  36.9,\n",
       "  48.8,\n",
       "  23.0,\n",
       "  33.62,\n",
       "  48.88,\n",
       "  18.64,\n",
       "  6.29,\n",
       "  7.83,\n",
       "  3.51,\n",
       "  17.7,\n",
       "  41.85,\n",
       "  3.38,\n",
       "  3.6,\n",
       "  10.18,\n",
       "  5.52,\n",
       "  2.8,\n",
       "  12.12,\n",
       "  0.0,\n",
       "  4.02,\n",
       "  24.49,\n",
       "  13.64,\n",
       "  14.09,\n",
       "  11.92],\n",
       " 1: [6.07,\n",
       "  2.62,\n",
       "  0.0,\n",
       "  1.17,\n",
       "  0.25,\n",
       "  20.81,\n",
       "  1.41,\n",
       "  17.78,\n",
       "  7.98,\n",
       "  0.32,\n",
       "  10.18,\n",
       "  11.02,\n",
       "  3.05,\n",
       "  0.0,\n",
       "  4.23,\n",
       "  5.52]}"
      ]
     },
     "execution_count": 39,
     "metadata": {},
     "output_type": "execute_result"
    }
   ],
   "source": [
    "rsa_profs_dict"
   ]
  },
  {
   "cell_type": "code",
   "execution_count": 40,
   "metadata": {},
   "outputs": [],
   "source": [
    "max_len = max([len(v) for v in rsa_profs_dict.values()])\n",
    "bs_vectors = []\n",
    "bs_vectors_dict = {}\n",
    "for bs_id, rsa_sig in rsa_profs_dict.items():\n",
    "    rsa_sig_len = len(rsa_sig)\n",
    "    rsa_range_prop = [0 for i in range(10)] # now let us change to 10\n",
    "    for rsa in rsa_sig:\n",
    "        prop_i = int(rsa/10) # 10 RSA BINS: b1 = [0,10), b2 = [10, 20), ... b10 = [90, MAX)\n",
    "        if prop_i > 9: # if greater than 100, put in 10th bin\n",
    "            prop_i = 9\n",
    "        #print(prop_i)\n",
    "        rsa_range_prop[prop_i] += 1\n",
    "    rsa_range_prop = [round(i/rsa_sig_len, 3) for i in rsa_range_prop]\n",
    "    rsa_range_prop.insert(0, rsa_sig_len/max_len) # ADDING BINDING SITE SIZE RELATIVE TO MAX SITE SIZE (IN THIS CASE 40)\n",
    "    bs_vectors.append(rsa_range_prop)\n",
    "    bs_vectors_dict[bs_id] = rsa_range_prop\n",
    "    \n",
    "vector_df = pd.DataFrame(bs_vectors, index = list(rsa_profs_dict.keys())) # obtaining RSA vectors, which are the 11-element features used for the machine learning"
   ]
  },
  {
   "cell_type": "code",
   "execution_count": 41,
   "metadata": {},
   "outputs": [
    {
     "data": {
      "text/html": [
       "<div>\n",
       "<style scoped>\n",
       "    .dataframe tbody tr th:only-of-type {\n",
       "        vertical-align: middle;\n",
       "    }\n",
       "\n",
       "    .dataframe tbody tr th {\n",
       "        vertical-align: top;\n",
       "    }\n",
       "\n",
       "    .dataframe thead th {\n",
       "        text-align: right;\n",
       "    }\n",
       "</style>\n",
       "<table border=\"1\" class=\"dataframe\">\n",
       "  <thead>\n",
       "    <tr style=\"text-align: right;\">\n",
       "      <th></th>\n",
       "      <th>0</th>\n",
       "      <th>1</th>\n",
       "      <th>2</th>\n",
       "      <th>3</th>\n",
       "      <th>4</th>\n",
       "      <th>5</th>\n",
       "      <th>6</th>\n",
       "      <th>7</th>\n",
       "      <th>8</th>\n",
       "      <th>9</th>\n",
       "      <th>10</th>\n",
       "    </tr>\n",
       "  </thead>\n",
       "  <tbody>\n",
       "    <tr>\n",
       "      <th>0</th>\n",
       "      <td>1.000000</td>\n",
       "      <td>0.375</td>\n",
       "      <td>0.333</td>\n",
       "      <td>0.083</td>\n",
       "      <td>0.083</td>\n",
       "      <td>0.125</td>\n",
       "      <td>0.0</td>\n",
       "      <td>0.0</td>\n",
       "      <td>0.0</td>\n",
       "      <td>0.0</td>\n",
       "      <td>0.0</td>\n",
       "    </tr>\n",
       "    <tr>\n",
       "      <th>1</th>\n",
       "      <td>0.666667</td>\n",
       "      <td>0.750</td>\n",
       "      <td>0.188</td>\n",
       "      <td>0.062</td>\n",
       "      <td>0.000</td>\n",
       "      <td>0.000</td>\n",
       "      <td>0.0</td>\n",
       "      <td>0.0</td>\n",
       "      <td>0.0</td>\n",
       "      <td>0.0</td>\n",
       "      <td>0.0</td>\n",
       "    </tr>\n",
       "  </tbody>\n",
       "</table>\n",
       "</div>"
      ],
      "text/plain": [
       "         0      1      2      3      4      5    6    7    8    9    10\n",
       "0  1.000000  0.375  0.333  0.083  0.083  0.125  0.0  0.0  0.0  0.0  0.0\n",
       "1  0.666667  0.750  0.188  0.062  0.000  0.000  0.0  0.0  0.0  0.0  0.0"
      ]
     },
     "execution_count": 41,
     "metadata": {},
     "output_type": "execute_result"
    }
   ],
   "source": [
    "vector_df"
   ]
  },
  {
   "cell_type": "code",
   "execution_count": 42,
   "metadata": {},
   "outputs": [
    {
     "name": "stderr",
     "output_type": "stream",
     "text": [
      "2023-09-11 17:15:17.584947: I tensorflow/core/platform/cpu_feature_guard.cc:193] This TensorFlow binary is optimized with oneAPI Deep Neural Network Library (oneDNN) to use the following CPU instructions in performance-critical operations:  SSE4.1 SSE4.2\n",
      "To enable them in other operations, rebuild TensorFlow with the appropriate compiler flags.\n"
     ]
    }
   ],
   "source": [
    "import keras"
   ]
  },
  {
   "cell_type": "code",
   "execution_count": 43,
   "metadata": {},
   "outputs": [
    {
     "name": "stderr",
     "output_type": "stream",
     "text": [
      "2023-09-11 17:15:20.213747: I tensorflow/core/platform/cpu_feature_guard.cc:193] This TensorFlow binary is optimized with oneAPI Deep Neural Network Library (oneDNN) to use the following CPU instructions in performance-critical operations:  SSE4.1 SSE4.2\n",
      "To enable them in other operations, rebuild TensorFlow with the appropriate compiler flags.\n"
     ]
    }
   ],
   "source": [
    "model_path = \"/homes/2394007/JSU_LIGYSIS/ANN_results/diff_seeds/85406/models/85406_4_model_epoch_75_train_acc_0.88.h5\"\n",
    "final_model = keras.models.load_model(model_path)\n",
    "final_preds = final_model.predict(x = vector_df, batch_size = 27, verbose = 0)\n",
    "rounded_predictions = np.argmax(final_preds, axis = -1)"
   ]
  },
  {
   "cell_type": "code",
   "execution_count": 44,
   "metadata": {},
   "outputs": [],
   "source": [
    "prop_func_dict = {0:0.58, 1: 0.18, 2:0.05, 3:0.04}"
   ]
  },
  {
   "cell_type": "code",
   "execution_count": 45,
   "metadata": {},
   "outputs": [],
   "source": [
    "site_func_score_dict = {}\n",
    "for i, el in enumerate(final_preds):\n",
    "    site_func_score_dict[i] = 0\n",
    "    for o, e in enumerate(el):\n",
    "        site_func_score_dict[i] += e*prop_func_dict[o]\n",
    "    #print([round(e,6) for e in el])\n",
    "    \n",
    "site_func_score_dict = {k: round(v, 4) for k, v in site_func_score_dict.items()}"
   ]
  },
  {
   "cell_type": "code",
   "execution_count": 46,
   "metadata": {},
   "outputs": [
    {
     "data": {
      "text/plain": [
       "{0: 0.5799, 1: 0.58}"
      ]
     },
     "execution_count": 46,
     "metadata": {},
     "output_type": "execute_result"
    }
   ],
   "source": [
    "site_func_score_dict"
   ]
  },
  {
   "cell_type": "code",
   "execution_count": 47,
   "metadata": {},
   "outputs": [],
   "source": [
    "bss_df[\"rsa_cluster\"] = [el + 1 for el in list(rounded_predictions)]\n",
    "bss_df[\"func_score\"] = bss_df.bs_id.map(site_func_score_dict)"
   ]
  },
  {
   "cell_type": "code",
   "execution_count": 48,
   "metadata": {},
   "outputs": [
    {
     "data": {
      "text/html": [
       "<div>\n",
       "<style scoped>\n",
       "    .dataframe tbody tr th:only-of-type {\n",
       "        vertical-align: middle;\n",
       "    }\n",
       "\n",
       "    .dataframe tbody tr th {\n",
       "        vertical-align: top;\n",
       "    }\n",
       "\n",
       "    .dataframe thead th {\n",
       "        text-align: right;\n",
       "    }\n",
       "</style>\n",
       "<table border=\"1\" class=\"dataframe\">\n",
       "  <thead>\n",
       "    <tr style=\"text-align: right;\">\n",
       "      <th></th>\n",
       "      <th>bs_id</th>\n",
       "      <th>size</th>\n",
       "      <th>occ_pct</th>\n",
       "      <th>abs_norm_shenk</th>\n",
       "      <th>human_occ_pct</th>\n",
       "      <th>human_shenk</th>\n",
       "      <th>OR</th>\n",
       "      <th>RSA</th>\n",
       "      <th>color</th>\n",
       "      <th>rsa_cluster</th>\n",
       "      <th>func_score</th>\n",
       "    </tr>\n",
       "  </thead>\n",
       "  <tbody>\n",
       "    <tr>\n",
       "      <th>0</th>\n",
       "      <td>0</td>\n",
       "      <td>23</td>\n",
       "      <td>67.85</td>\n",
       "      <td>14.38</td>\n",
       "      <td>77.02</td>\n",
       "      <td>22.39</td>\n",
       "      <td>0.83</td>\n",
       "      <td>17.42</td>\n",
       "      <td>#e6194b</td>\n",
       "      <td>1</td>\n",
       "      <td>0.5799</td>\n",
       "    </tr>\n",
       "    <tr>\n",
       "      <th>1</th>\n",
       "      <td>1</td>\n",
       "      <td>16</td>\n",
       "      <td>64.49</td>\n",
       "      <td>18.37</td>\n",
       "      <td>73.22</td>\n",
       "      <td>26.94</td>\n",
       "      <td>0.72</td>\n",
       "      <td>5.78</td>\n",
       "      <td>#3cb44b</td>\n",
       "      <td>1</td>\n",
       "      <td>0.5800</td>\n",
       "    </tr>\n",
       "  </tbody>\n",
       "</table>\n",
       "</div>"
      ],
      "text/plain": [
       "   bs_id  size  occ_pct  abs_norm_shenk  human_occ_pct  human_shenk    OR  \\\n",
       "0      0    23    67.85           14.38          77.02        22.39  0.83   \n",
       "1      1    16    64.49           18.37          73.22        26.94  0.72   \n",
       "\n",
       "     RSA    color  rsa_cluster  func_score  \n",
       "0  17.42  #e6194b            1      0.5799  \n",
       "1   5.78  #3cb44b            1      0.5800  "
      ]
     },
     "execution_count": 48,
     "metadata": {},
     "output_type": "execute_result"
    }
   ],
   "source": [
    "bss_df"
   ]
  }
 ],
 "metadata": {
  "kernelspec": {
   "display_name": "Python [conda env:deep_learning]",
   "language": "python",
   "name": "conda-env-deep_learning-py"
  },
  "language_info": {
   "codemirror_mode": {
    "name": "ipython",
    "version": 3
   },
   "file_extension": ".py",
   "mimetype": "text/x-python",
   "name": "python",
   "nbconvert_exporter": "python",
   "pygments_lexer": "ipython3",
   "version": "3.10.8"
  },
  "vscode": {
   "interpreter": {
    "hash": "98efcfd7bf7e142688e48652691e29ea27144c025493c0216f79c2a220a91abd"
   }
  }
 },
 "nbformat": 4,
 "nbformat_minor": 4
}
