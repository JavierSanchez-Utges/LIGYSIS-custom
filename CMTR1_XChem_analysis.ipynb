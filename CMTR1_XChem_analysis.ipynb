{
 "cells": [
  {
   "cell_type": "code",
   "execution_count": 1,
   "metadata": {},
   "outputs": [],
   "source": [
    "import os\n",
    "import pickle\n",
    "import scipy\n",
    "import matplotlib\n",
    "import numpy as np\n",
    "import pandas as pd\n",
    "import seaborn as sns\n",
    "import matplotlib.pyplot as plt"
   ]
  },
  {
   "cell_type": "code",
   "execution_count": 2,
   "metadata": {},
   "outputs": [],
   "source": [
    "def dump_pickle(data, pickle_out):\n",
    "    \"\"\"\n",
    "    Dumps pickle.\n",
    "    \"\"\"\n",
    "    with open(pickle_out, \"wb\") as f:\n",
    "        pickle.dump(data, f)\n",
    "\n",
    "def load_pickle(pickle_in):\n",
    "    \"\"\"\n",
    "    Loads pickle.\n",
    "    \"\"\"\n",
    "    with open(pickle_in, \"rb\") as f:\n",
    "        data = pickle.load(f)\n",
    "    return data"
   ]
  },
  {
   "cell_type": "code",
   "execution_count": 3,
   "metadata": {},
   "outputs": [],
   "source": [
    "wd = \".\"\n",
    "input_id = \"CMTR1_XChem_hits\"\n",
    "in_dir = os.path.join(wd, \"input\", input_id)\n",
    "out_dir = os.path.join(wd, \"output\", input_id)\n",
    "results_dir = os.path.join(out_dir, \"results\")"
   ]
  },
  {
   "cell_type": "code",
   "execution_count": 4,
   "metadata": {},
   "outputs": [],
   "source": [
    "ress_ss_dict = load_pickle(os.path.join(results_dir, '{}_ress_SS.pkl'.format(input_id)))                    # residue --> SS\n",
    "ress_aa_dict = load_pickle(os.path.join(results_dir, '{}_ress_AA.pkl'.format(input_id)))                    # residue --> AA\n",
    "ress_rsa_dict = load_pickle(os.path.join(results_dir, '{}_ress_RSA.pkl'.format(input_id)))                  # residue --> RSA\n",
    "ress_bss_dict = load_pickle(os.path.join(results_dir, '{}_res_bss.pkl'.format(input_id)))                   # residue --> [binding sites]\n",
    "\n",
    "lig_ress_dict = load_pickle(os.path.join(results_dir, '{}_lig_ress.pkl'.format(input_id)))                  # ligand --> [binding residues]\n",
    "lig_inters_df = pd.read_pickle(os.path.join(results_dir, '{}_lig_inters.pkl'.format(input_id)))             # ligand interactions dataframe\n",
    "lig_bs_dict = load_pickle(os.path.join(results_dir, '{}_lig_bs.pkl'.format(input_id)))                      # ligand --> binding site\n",
    "lig_data_df = pd.read_pickle(os.path.join(results_dir, '{}_lig_data.pkl'.format(input_id)))                 # ligand dataframe\n",
    "\n",
    "site_ress_dict = load_pickle(os.path.join(results_dir, '{}_site_ress.pkl'.format(input_id)))                # binding site --> [binding residues]\n",
    "aa_profs_dict = load_pickle(os.path.join(results_dir, '{}_bss_AA_profiles.pkl'.format(input_id)))           # binding site --> [AA]\n",
    "rsa_profs_dict = load_pickle(os.path.join(results_dir, '{}_bss_RSA_profiles.pkl'.format(input_id)))         # binding site --> [SS]\n",
    "ss_profs_dict = load_pickle(os.path.join(results_dir, '{}_bss_SS_profiles.pkl'.format(input_id)))           # binding site --> [RSA]\n",
    "rel_dist_df = pd.read_pickle(os.path.join(results_dir, '{}_rel_dist.pkl'.format(input_id)))                 # D = 1 - Irel matrix (DF)\n",
    "bs_def_df = pd.read_pickle(os.path.join(results_dir, '{}_BS_def_average_i_rel_0.5.pkl'.format(input_id)))   # binding site definition\n",
    "dssp_df = pd.read_pickle(os.path.join(results_dir, '{}_dssp_mapped.pkl'.format(input_id)))                  # DSSP dataframe\n",
    "missense_df = pd.read_pickle(os.path.join(results_dir, '{}_missense_df.pkl'.format(input_id)))              # missense dataframe\n",
    "consvar_df = pd.read_pickle(os.path.join(results_dir, '{}_ress_consvar.pkl'.format(input_id)))              # cons + var dataframe\n",
    "results_df = pd.read_pickle(os.path.join(results_dir, '{}_results_table.pkl'.format(input_id)))             # final results table\n",
    "\n",
    "#domains_file = os.path.join(results_dir, '{}_stamp.domains'.format(input_id))\n",
    "#stamp_out = os.path.join(results_dir, '{}_stamp.out'.format(input_id))\n",
    "#bs_attr = os.path.join(results_dir, '{}_BS_def_average_i_rel_0.5.attr'.format(input_id))\n",
    "#bs_col_command = os.path.join(results_dir, '{}_BS_def_average_i_rel_0.5.com'.format(input_id))"
   ]
  },
  {
   "cell_type": "markdown",
   "metadata": {},
   "source": [
    "## Residue level data"
   ]
  },
  {
   "cell_type": "markdown",
   "metadata": {},
   "source": [
    "### Amino acid"
   ]
  },
  {
   "cell_type": "code",
   "execution_count": 5,
   "metadata": {
    "jupyter": {
     "source_hidden": true
    }
   },
   "outputs": [
    {
     "name": "stdout",
     "output_type": "stream",
     "text": [
      "401\n",
      "140 N\n"
     ]
    }
   ],
   "source": [
    "print(len(ress_aa_dict))\n",
    "for k, v in ress_aa_dict.items():\n",
    "    print(k, v)\n",
    "    break"
   ]
  },
  {
   "cell_type": "markdown",
   "metadata": {},
   "source": [
    "### Relative Solvent Accessibility"
   ]
  },
  {
   "cell_type": "code",
   "execution_count": 6,
   "metadata": {
    "jupyter": {
     "source_hidden": true
    }
   },
   "outputs": [
    {
     "name": "stdout",
     "output_type": "stream",
     "text": [
      "401\n",
      "140 138.22\n"
     ]
    }
   ],
   "source": [
    "print(len(ress_rsa_dict))\n",
    "for k, v in ress_rsa_dict.items():\n",
    "    print(k, v)\n",
    "    break"
   ]
  },
  {
   "cell_type": "markdown",
   "metadata": {},
   "source": [
    "### Secondary structure"
   ]
  },
  {
   "cell_type": "code",
   "execution_count": 7,
   "metadata": {
    "jupyter": {
     "source_hidden": true
    }
   },
   "outputs": [
    {
     "name": "stdout",
     "output_type": "stream",
     "text": [
      "401\n",
      "140 C\n"
     ]
    }
   ],
   "source": [
    "print(len(ress_ss_dict))\n",
    "for k, v in ress_ss_dict.items():\n",
    "    print(k, v)\n",
    "    break"
   ]
  },
  {
   "cell_type": "markdown",
   "metadata": {},
   "source": [
    "### Binding site membership"
   ]
  },
  {
   "cell_type": "code",
   "execution_count": 8,
   "metadata": {
    "jupyter": {
     "source_hidden": true
    }
   },
   "outputs": [
    {
     "name": "stdout",
     "output_type": "stream",
     "text": [
      "34\n",
      "156 [0]\n"
     ]
    }
   ],
   "source": [
    "print(len(ress_bss_dict)) # this will equal to the number of ligand binding residues\n",
    "for k, v in ress_bss_dict.items():\n",
    "    print(k, v)\n",
    "    break"
   ]
  },
  {
   "cell_type": "markdown",
   "metadata": {},
   "source": [
    "## Ligand level data"
   ]
  },
  {
   "cell_type": "markdown",
   "metadata": {},
   "source": [
    "### Ligands"
   ]
  },
  {
   "cell_type": "code",
   "execution_count": 9,
   "metadata": {
    "jupyter": {
     "source_hidden": true
    }
   },
   "outputs": [
    {
     "name": "stdout",
     "output_type": "stream",
     "text": [
      "5\n"
     ]
    },
    {
     "data": {
      "text/html": [
       "<div>\n",
       "<style scoped>\n",
       "    .dataframe tbody tr th:only-of-type {\n",
       "        vertical-align: middle;\n",
       "    }\n",
       "\n",
       "    .dataframe tbody tr th {\n",
       "        vertical-align: top;\n",
       "    }\n",
       "\n",
       "    .dataframe thead th {\n",
       "        text-align: right;\n",
       "    }\n",
       "</style>\n",
       "<table border=\"1\" class=\"dataframe\">\n",
       "  <thead>\n",
       "    <tr style=\"text-align: right;\">\n",
       "      <th></th>\n",
       "      <th>struc_name</th>\n",
       "      <th>label_comp_id</th>\n",
       "      <th>label_asym_id</th>\n",
       "      <th>auth_seq_id</th>\n",
       "    </tr>\n",
       "  </thead>\n",
       "  <tbody>\n",
       "    <tr>\n",
       "      <th>3219</th>\n",
       "      <td>CMTR1_ALL.pdb</td>\n",
       "      <td>MLA</td>\n",
       "      <td>B</td>\n",
       "      <td>1</td>\n",
       "    </tr>\n",
       "    <tr>\n",
       "      <th>3318</th>\n",
       "      <td>771463_ALL.pdb</td>\n",
       "      <td>ACT</td>\n",
       "      <td>A</td>\n",
       "      <td>602</td>\n",
       "    </tr>\n",
       "    <tr>\n",
       "      <th>3322</th>\n",
       "      <td>771463_ALL.pdb</td>\n",
       "      <td>ACT</td>\n",
       "      <td>A</td>\n",
       "      <td>603</td>\n",
       "    </tr>\n",
       "    <tr>\n",
       "      <th>3326</th>\n",
       "      <td>771463_ALL.pdb</td>\n",
       "      <td>LIG</td>\n",
       "      <td>A</td>\n",
       "      <td>701</td>\n",
       "    </tr>\n",
       "    <tr>\n",
       "      <th>3337</th>\n",
       "      <td>771463_ALL.pdb</td>\n",
       "      <td>MLA</td>\n",
       "      <td>B</td>\n",
       "      <td>1</td>\n",
       "    </tr>\n",
       "  </tbody>\n",
       "</table>\n",
       "</div>"
      ],
      "text/plain": [
       "          struc_name label_comp_id label_asym_id auth_seq_id\n",
       "3219   CMTR1_ALL.pdb           MLA             B           1\n",
       "3318  771463_ALL.pdb           ACT             A         602\n",
       "3322  771463_ALL.pdb           ACT             A         603\n",
       "3326  771463_ALL.pdb           LIG             A         701\n",
       "3337  771463_ALL.pdb           MLA             B           1"
      ]
     },
     "execution_count": 9,
     "metadata": {},
     "output_type": "execute_result"
    }
   ],
   "source": [
    "print(len(lig_data_df))\n",
    "lig_data_df.head()"
   ]
  },
  {
   "cell_type": "markdown",
   "metadata": {},
   "source": [
    "### Ligand binding residues"
   ]
  },
  {
   "cell_type": "code",
   "execution_count": 56,
   "metadata": {},
   "outputs": [
    {
     "name": "stdout",
     "output_type": "stream",
     "text": [
      "5\n",
      "771463_ALL_ACT_602_A [156, 495, 498, 499, 502]\n"
     ]
    }
   ],
   "source": [
    "print(len(lig_ress_dict))\n",
    "for k, v in lig_ress_dict.items():\n",
    "    print(k, v)\n",
    "    break"
   ]
  },
  {
   "cell_type": "markdown",
   "metadata": {},
   "source": [
    "### Ligand binding interactions"
   ]
  },
  {
   "cell_type": "code",
   "execution_count": 11,
   "metadata": {
    "jupyter": {
     "source_hidden": true
    }
   },
   "outputs": [
    {
     "name": "stdout",
     "output_type": "stream",
     "text": [
      "5\n"
     ]
    },
    {
     "data": {
      "text/html": [
       "<div>\n",
       "<style scoped>\n",
       "    .dataframe tbody tr th:only-of-type {\n",
       "        vertical-align: middle;\n",
       "    }\n",
       "\n",
       "    .dataframe tbody tr th {\n",
       "        vertical-align: top;\n",
       "    }\n",
       "\n",
       "    .dataframe thead th {\n",
       "        text-align: right;\n",
       "    }\n",
       "</style>\n",
       "<table border=\"1\" class=\"dataframe\">\n",
       "  <thead>\n",
       "    <tr style=\"text-align: right;\">\n",
       "      <th></th>\n",
       "      <th>pdb_id</th>\n",
       "      <th>lig_name</th>\n",
       "      <th>lig_resnum</th>\n",
       "      <th>lig_chain</th>\n",
       "      <th>binding_res</th>\n",
       "      <th>lab</th>\n",
       "    </tr>\n",
       "  </thead>\n",
       "  <tbody>\n",
       "    <tr>\n",
       "      <th>0</th>\n",
       "      <td>771463_ALL</td>\n",
       "      <td>ACT</td>\n",
       "      <td>602</td>\n",
       "      <td>A</td>\n",
       "      <td>[156, 495, 498, 499, 502]</td>\n",
       "      <td>771463_ALL_ACT_602_A</td>\n",
       "    </tr>\n",
       "    <tr>\n",
       "      <th>1</th>\n",
       "      <td>771463_ALL</td>\n",
       "      <td>ACT</td>\n",
       "      <td>603</td>\n",
       "      <td>A</td>\n",
       "      <td>[172, 175, 459, 462, 463, 171]</td>\n",
       "      <td>771463_ALL_ACT_603_A</td>\n",
       "    </tr>\n",
       "    <tr>\n",
       "      <th>2</th>\n",
       "      <td>771463_ALL</td>\n",
       "      <td>LIG</td>\n",
       "      <td>701</td>\n",
       "      <td>A</td>\n",
       "      <td>[202, 205, 206, 209, 214, 511, 514, 515, 518, ...</td>\n",
       "      <td>771463_ALL_LIG_701_A</td>\n",
       "    </tr>\n",
       "    <tr>\n",
       "      <th>3</th>\n",
       "      <td>771463_ALL</td>\n",
       "      <td>MLA</td>\n",
       "      <td>1</td>\n",
       "      <td>B</td>\n",
       "      <td>[239, 275, 276, 277, 283, 362, 363, 364, 404, ...</td>\n",
       "      <td>771463_ALL_MLA_1_B</td>\n",
       "    </tr>\n",
       "    <tr>\n",
       "      <th>4</th>\n",
       "      <td>CMTR1_ALL</td>\n",
       "      <td>MLA</td>\n",
       "      <td>1</td>\n",
       "      <td>B</td>\n",
       "      <td>[239, 275, 276, 277, 283, 362, 363, 364, 403, ...</td>\n",
       "      <td>CMTR1_ALL_MLA_1_B</td>\n",
       "    </tr>\n",
       "  </tbody>\n",
       "</table>\n",
       "</div>"
      ],
      "text/plain": [
       "       pdb_id lig_name  lig_resnum lig_chain  \\\n",
       "0  771463_ALL      ACT         602         A   \n",
       "1  771463_ALL      ACT         603         A   \n",
       "2  771463_ALL      LIG         701         A   \n",
       "3  771463_ALL      MLA           1         B   \n",
       "4   CMTR1_ALL      MLA           1         B   \n",
       "\n",
       "                                         binding_res                   lab  \n",
       "0                          [156, 495, 498, 499, 502]  771463_ALL_ACT_602_A  \n",
       "1                     [172, 175, 459, 462, 463, 171]  771463_ALL_ACT_603_A  \n",
       "2  [202, 205, 206, 209, 214, 511, 514, 515, 518, ...  771463_ALL_LIG_701_A  \n",
       "3  [239, 275, 276, 277, 283, 362, 363, 364, 404, ...    771463_ALL_MLA_1_B  \n",
       "4  [239, 275, 276, 277, 283, 362, 363, 364, 403, ...     CMTR1_ALL_MLA_1_B  "
      ]
     },
     "execution_count": 11,
     "metadata": {},
     "output_type": "execute_result"
    }
   ],
   "source": [
    "print(len(lig_inters_df))\n",
    "lig_inters_df.head()"
   ]
  },
  {
   "cell_type": "markdown",
   "metadata": {},
   "source": [
    "### Ligand binding site membership"
   ]
  },
  {
   "cell_type": "code",
   "execution_count": 12,
   "metadata": {
    "jupyter": {
     "source_hidden": true
    }
   },
   "outputs": [
    {
     "name": "stdout",
     "output_type": "stream",
     "text": [
      "5\n",
      "771463_ALL_ACT_602_A 0\n"
     ]
    }
   ],
   "source": [
    "print(len(lig_bs_dict))\n",
    "for k, v in lig_bs_dict.items():\n",
    "    print(k, v)\n",
    "    break"
   ]
  },
  {
   "cell_type": "markdown",
   "metadata": {},
   "source": [
    "## Binding site level data"
   ]
  },
  {
   "cell_type": "markdown",
   "metadata": {},
   "source": [
    "### Residue numbers"
   ]
  },
  {
   "cell_type": "code",
   "execution_count": 57,
   "metadata": {},
   "outputs": [
    {
     "name": "stdout",
     "output_type": "stream",
     "text": [
      "4\n",
      "0 [156, 495, 498, 499, 502]\n",
      "1 [171, 172, 175, 459, 462, 463]\n",
      "2 [202, 205, 206, 209, 214, 511, 512, 514, 515, 518, 519]\n",
      "3 [239, 275, 276, 277, 283, 362, 363, 364, 403, 404, 441, 443]\n"
     ]
    }
   ],
   "source": [
    "print(len(site_ress_dict))\n",
    "for k, v in site_ress_dict.items():\n",
    "    print(k, v)\n",
    "    #break"
   ]
  },
  {
   "cell_type": "markdown",
   "metadata": {},
   "source": [
    "### AA profile"
   ]
  },
  {
   "cell_type": "code",
   "execution_count": 14,
   "metadata": {
    "jupyter": {
     "source_hidden": true
    }
   },
   "outputs": [
    {
     "name": "stdout",
     "output_type": "stream",
     "text": [
      "4\n",
      "0 ['S', 'Y', 'R', 'S', 'S']\n"
     ]
    }
   ],
   "source": [
    "print(len(aa_profs_dict))\n",
    "for k, v in aa_profs_dict.items():\n",
    "    print(k, v)\n",
    "    break"
   ]
  },
  {
   "cell_type": "markdown",
   "metadata": {},
   "source": [
    "### SS profile"
   ]
  },
  {
   "cell_type": "code",
   "execution_count": 15,
   "metadata": {
    "jupyter": {
     "source_hidden": true
    }
   },
   "outputs": [
    {
     "name": "stdout",
     "output_type": "stream",
     "text": [
      "4\n",
      "0 ['C', 'H', 'H', 'H', 'H']\n"
     ]
    }
   ],
   "source": [
    "print(len(ss_profs_dict))\n",
    "for k, v in ss_profs_dict.items():\n",
    "    print(k, v)\n",
    "    break"
   ]
  },
  {
   "cell_type": "markdown",
   "metadata": {},
   "source": [
    "### RSA profile"
   ]
  },
  {
   "cell_type": "code",
   "execution_count": 16,
   "metadata": {
    "jupyter": {
     "source_hidden": true
    }
   },
   "outputs": [
    {
     "name": "stdout",
     "output_type": "stream",
     "text": [
      "4\n",
      "0 [60.26, 3.45, 55.64, 18.46, 49.23]\n"
     ]
    }
   ],
   "source": [
    "print(len(rsa_profs_dict))\n",
    "for k, v in rsa_profs_dict.items():\n",
    "    print(k, v)\n",
    "    break"
   ]
  },
  {
   "cell_type": "markdown",
   "metadata": {},
   "source": [
    "## Visualising ligand site definition"
   ]
  },
  {
   "cell_type": "code",
   "execution_count": 17,
   "metadata": {},
   "outputs": [
    {
     "data": {
      "text/html": [
       "<div>\n",
       "<style scoped>\n",
       "    .dataframe tbody tr th:only-of-type {\n",
       "        vertical-align: middle;\n",
       "    }\n",
       "\n",
       "    .dataframe tbody tr th {\n",
       "        vertical-align: top;\n",
       "    }\n",
       "\n",
       "    .dataframe thead th {\n",
       "        text-align: right;\n",
       "    }\n",
       "</style>\n",
       "<table border=\"1\" class=\"dataframe\">\n",
       "  <thead>\n",
       "    <tr style=\"text-align: right;\">\n",
       "      <th></th>\n",
       "      <th>0</th>\n",
       "      <th>1</th>\n",
       "      <th>2</th>\n",
       "      <th>3</th>\n",
       "      <th>4</th>\n",
       "    </tr>\n",
       "  </thead>\n",
       "  <tbody>\n",
       "    <tr>\n",
       "      <th>0</th>\n",
       "      <td>0.0</td>\n",
       "      <td>1.0</td>\n",
       "      <td>1.0</td>\n",
       "      <td>1.0</td>\n",
       "      <td>1.0</td>\n",
       "    </tr>\n",
       "    <tr>\n",
       "      <th>1</th>\n",
       "      <td>1.0</td>\n",
       "      <td>0.0</td>\n",
       "      <td>1.0</td>\n",
       "      <td>1.0</td>\n",
       "      <td>1.0</td>\n",
       "    </tr>\n",
       "    <tr>\n",
       "      <th>2</th>\n",
       "      <td>1.0</td>\n",
       "      <td>1.0</td>\n",
       "      <td>0.0</td>\n",
       "      <td>1.0</td>\n",
       "      <td>1.0</td>\n",
       "    </tr>\n",
       "    <tr>\n",
       "      <th>3</th>\n",
       "      <td>1.0</td>\n",
       "      <td>1.0</td>\n",
       "      <td>1.0</td>\n",
       "      <td>0.0</td>\n",
       "      <td>0.0</td>\n",
       "    </tr>\n",
       "    <tr>\n",
       "      <th>4</th>\n",
       "      <td>1.0</td>\n",
       "      <td>1.0</td>\n",
       "      <td>1.0</td>\n",
       "      <td>0.0</td>\n",
       "      <td>0.0</td>\n",
       "    </tr>\n",
       "  </tbody>\n",
       "</table>\n",
       "</div>"
      ],
      "text/plain": [
       "     0    1    2    3    4\n",
       "0  0.0  1.0  1.0  1.0  1.0\n",
       "1  1.0  0.0  1.0  1.0  1.0\n",
       "2  1.0  1.0  0.0  1.0  1.0\n",
       "3  1.0  1.0  1.0  0.0  0.0\n",
       "4  1.0  1.0  1.0  0.0  0.0"
      ]
     },
     "execution_count": 17,
     "metadata": {},
     "output_type": "execute_result"
    }
   ],
   "source": [
    "rel_dist_df.head(5)"
   ]
  },
  {
   "cell_type": "code",
   "execution_count": 18,
   "metadata": {},
   "outputs": [],
   "source": [
    "clust_method = \"average\"\n",
    "clust_dist = 0.5\n",
    "sample_colors = [\"#e6194b\", \"#3cb44b\", \"#ffe119\", \"#4363d8\", \"#f58231\", \"#911eb4\", \"#46f0f0\", \"#f032e6\", \"#bcf60c\", \"#fabebe\", \"#008080\", \"#e6beff\", \"#9a6324\", \"#fffac8\", \"#800000\", \"#aaffc3\", \"#808000\", \"#ffd8b1\", \"#000075\", \"#808080\", \"#ffffff\", \"#000000\"]\n",
    "sample_colors_dict = {i: sample_colors[i] for i in range(len(sample_colors))}\n",
    "condensed_dist_mat = scipy.spatial.distance.squareform(rel_dist_df) # condensed distance matrix to be used for clustering\n",
    "linkage = scipy.cluster.hierarchy.linkage(condensed_dist_mat, method = clust_method, optimal_ordering = True)\n",
    "cut_tree = scipy.cluster.hierarchy.cut_tree(linkage, height = clust_dist)\n",
    "cluster_ids = [int(cut) for cut in cut_tree]\n",
    "labs = lig_inters_df.lab.tolist()\n",
    "cluster_id_dict = {labs[i]: cluster_ids[i] for i in range(len(labs))} #dictionary indicating membership for each lig"
   ]
  },
  {
   "cell_type": "code",
   "execution_count": 19,
   "metadata": {},
   "outputs": [
    {
     "data": {
      "image/png": "[encoded data removed]",
      "text/plain": [
       "<Figure size 3000x750 with 1 Axes>"
      ]
     },
     "metadata": {},
     "output_type": "display_data"
    }
   ],
   "source": [
    "fig = plt.figure(figsize=(30, 7.5), dpi = 100)\n",
    "matplotlib.rcParams['lines.linewidth'] = 2\n",
    "dd = scipy.cluster.hierarchy.dendrogram(linkage, labels = labs, leaf_font_size = 10, color_threshold = clust_dist, above_threshold_color = \"k\")\n",
    "# = [cluster_id_dict[d] for d in dd[\"ivl\"]]\n",
    "# = sorted(set(x), key=x.index)\n",
    "#ols_list = [sample_colors[i] for i in x]\n",
    "#cipy.cluster.hierarchy.set_link_color_palette(cols_list)\n",
    "\n",
    "#[site_cluster_dict[k] for k in dd[\"ivl\"]]\n",
    "#if out != None:\n",
    "#    plt.savefig(out)\n",
    "    #print(\"Figure was successfully saved!\")\n",
    "#plt.ylim(0,20)\n",
    "plt.axhline(y=clust_dist, c = \"k\", linestyle = \"--\")\n",
    "#plt.ylim(-0.1)\n",
    "plt.show()"
   ]
  },
  {
   "cell_type": "code",
   "execution_count": 20,
   "metadata": {},
   "outputs": [
    {
     "data": {
      "image/png": "[encoded data removed]",
      "text/plain": [
       "<Figure size 600x600 with 4 Axes>"
      ]
     },
     "metadata": {},
     "output_type": "display_data"
    }
   ],
   "source": [
    "sns.clustermap(rel_dist_df, xticklabels = False, yticklabels = False, row_linkage=linkage, col_linkage=linkage, figsize=(6,6), cmap = \"Greys_r\")\n",
    "#plt.savefig('./figs/fig_name.png', dpi = 600)\n",
    "plt.show()"
   ]
  },
  {
   "cell_type": "markdown",
   "metadata": {},
   "source": [
    "## Results table analysis"
   ]
  },
  {
   "cell_type": "code",
   "execution_count": 21,
   "metadata": {},
   "outputs": [
    {
     "name": "stdout",
     "output_type": "stream",
     "text": [
      "Minimum occupancy: 9\n",
      "Average occupancy: 238\n",
      "Maximum occupancy: 497\n"
     ]
    }
   ],
   "source": [
    "print(\"Minimum occupancy: {}\".format(results_df.occ.min()))\n",
    "print(\"Average occupancy: {}\".format(round(results_df.occ.mean())))\n",
    "print(\"Maximum occupancy: {}\".format(results_df.occ.max()))"
   ]
  },
  {
   "cell_type": "code",
   "execution_count": 22,
   "metadata": {},
   "outputs": [
    {
     "name": "stdout",
     "output_type": "stream",
     "text": [
      "Minimum HUMAN occupancy: 1\n",
      "Average HUMAN occupancy: 4\n",
      "Maximum HUMAN occupancy: 6\n"
     ]
    }
   ],
   "source": [
    "print(\"Minimum HUMAN occupancy: {}\".format(results_df.human_occ.min()))\n",
    "print(\"Average HUMAN occupancy: {}\".format(round(results_df.human_occ.mean())))\n",
    "print(\"Maximum HUMAN occupancy: {}\".format(results_df.human_occ.max()))"
   ]
  },
  {
   "cell_type": "markdown",
   "metadata": {},
   "source": [
    "## Conservation & occupancy on target sequence (FULL MSA)"
   ]
  },
  {
   "cell_type": "code",
   "execution_count": 23,
   "metadata": {},
   "outputs": [
    {
     "data": {
      "image/png": "[encoded data removed]",
      "text/plain": [
       "<Figure size 2000x750 with 2 Axes>"
      ]
     },
     "metadata": {},
     "output_type": "display_data"
    }
   ],
   "source": [
    "# Create the figure and the first axis (ax1)\n",
    "\n",
    "plt.rcParams.update({\"axes.linewidth\": 0.5})\n",
    "\n",
    "fig, ax1 = plt.subplots(figsize=(20, 7.5))\n",
    "\n",
    "# Plot a barplot on ax1\n",
    "ax1.bar(results_df['UniProt_ResNum'], results_df['abs_norm_shenkin'], color='darkorchid', label='Abs Norm Shenkin', width = 1)\n",
    "\n",
    "# Make the y-axis label, ticks and tick labels match the line color.\n",
    "ax1.set_xlabel('UniProt Residue Number', fontsize = 15)\n",
    "ax1.set_ylabel('Abs Norm Shenkin', color='darkorchid', fontsize = 15)\n",
    "ax1.tick_params('x', colors='k', labelsize=12)\n",
    "ax1.tick_params('y', colors='darkorchid', labelsize=12)\n",
    "ax1.axhline(y = 25, linestyle = '--', c = 'purple')\n",
    "ax1.axhline(y = 75, linestyle = '--', c = 'purple')\n",
    "# Create the second axis (ax2) based on the first axis (ax1)\n",
    "ax2 = ax1.twinx()\n",
    "\n",
    "# Plot a scatterplot + lineplot on ax2\n",
    "ax2.scatter(results_df['UniProt_ResNum'], results_df['occ_pct'], color='orange', marker='o', label='Occ %', s = 10)\n",
    "ax2.plot(results_df['UniProt_ResNum'], results_df['occ_pct'], color='orange', linewidth = 1.25)\n",
    "\n",
    "# Make the y-axis label, ticks and tick labels match the line color.\n",
    "ax2.set_ylabel('Occ %', color='orange', fontsize = 15)\n",
    "ax2.tick_params('y', colors='orange', labelsize=12)\n",
    "ax2.axhline(y = 50, linestyle = '--', c = 'darkorange')\n",
    "\n",
    "plt.xlim(results_df.UniProt_ResNum.min() - 1, results_df.UniProt_ResNum.max() + 1)\n",
    "\n",
    "# Create legends\n",
    "ax1.legend(loc='upper left', bbox_to_anchor=(0.0, 1.0))\n",
    "ax2.legend(loc='upper left', bbox_to_anchor=(0.0, 0.95))\n",
    "\n",
    "# Show the plot\n",
    "fig.tight_layout()\n",
    "plt.show()\n"
   ]
  },
  {
   "cell_type": "code",
   "execution_count": 58,
   "metadata": {},
   "outputs": [
    {
     "name": "stdout",
     "output_type": "stream",
     "text": [
      "4\n",
      "0 [156, 495, 498, 499, 502]\n",
      "1 [171, 172, 175, 459, 462, 463]\n",
      "2 [202, 205, 206, 209, 214, 511, 512, 514, 515, 518, 519]\n",
      "3 [239, 275, 276, 277, 283, 362, 363, 364, 403, 404, 441, 443]\n"
     ]
    }
   ],
   "source": [
    "print(len(site_ress_dict))\n",
    "for k, v in site_ress_dict.items():\n",
    "    print(k, v)\n",
    "    "
   ]
  },
  {
   "cell_type": "markdown",
   "metadata": {},
   "source": [
    "## Conservation & occupancy on target sequence (HUMAN MSA)"
   ]
  },
  {
   "cell_type": "code",
   "execution_count": 24,
   "metadata": {},
   "outputs": [
    {
     "data": {
      "image/png": "[encoded data removed]",
      "text/plain": [
       "<Figure size 2000x750 with 2 Axes>"
      ]
     },
     "metadata": {},
     "output_type": "display_data"
    }
   ],
   "source": [
    "# Create the figure and the first axis (ax1)\n",
    "\n",
    "plt.rcParams.update({\"axes.linewidth\": 0.5})\n",
    "\n",
    "fig, ax1 = plt.subplots(figsize=(20, 7.5))\n",
    "\n",
    "# Plot a barplot on ax1\n",
    "ax1.bar(results_df['UniProt_ResNum'], results_df['human_shenkin'], color='darkorchid', label='Shenkin (HUMAN)', width = 1)\n",
    "\n",
    "# Make the y-axis label, ticks and tick labels match the line color.\n",
    "ax1.set_xlabel('UniProt Residue Number', fontsize = 15)\n",
    "ax1.set_ylabel('Shenkin (HUMAN)', color='darkorchid', fontsize = 15)\n",
    "ax1.tick_params('x', colors='k', labelsize=12)\n",
    "ax1.tick_params('y', colors='darkorchid', labelsize=12)\n",
    "ax1.axhline(y = 25, linestyle = '--', c = 'purple')\n",
    "ax1.axhline(y = 75, linestyle = '--', c = 'purple')\n",
    "# Create the second axis (ax2) based on the first axis (ax1)\n",
    "ax2 = ax1.twinx()\n",
    "\n",
    "# Plot a scatterplot + lineplot on ax2\n",
    "ax2.scatter(results_df['UniProt_ResNum'], results_df['human_occ_pct'], color='orange', marker='o', label='Occ % (HUMAN)', s = 10)\n",
    "ax2.plot(results_df['UniProt_ResNum'], results_df['human_occ_pct'], color='orange', linewidth = 1.25)\n",
    "\n",
    "# Make the y-axis label, ticks and tick labels match the line color.\n",
    "ax2.set_ylabel('Occ % (HUMAN)', color='orange', fontsize = 15)\n",
    "ax2.tick_params('y', colors='orange', labelsize=12)\n",
    "ax2.axhline(y = 50, linestyle = '--', c = 'darkorange')\n",
    "\n",
    "plt.xlim(results_df.UniProt_ResNum.min() - 1, results_df.UniProt_ResNum.max() + 1)\n",
    "\n",
    "# Create legends\n",
    "ax1.legend(loc='upper left', bbox_to_anchor=(0.0, 1.0))\n",
    "ax2.legend(loc='upper left', bbox_to_anchor=(0.0, 0.95))\n",
    "\n",
    "# Show the plot\n",
    "fig.tight_layout()\n",
    "plt.show()\n"
   ]
  },
  {
   "cell_type": "markdown",
   "metadata": {},
   "source": [
    "### Binding sites analysis"
   ]
  },
  {
   "cell_type": "code",
   "execution_count": 25,
   "metadata": {},
   "outputs": [],
   "source": [
    "binding_ress_df = results_df.query('binding_sites == binding_sites').copy()"
   ]
  },
  {
   "cell_type": "code",
   "execution_count": 26,
   "metadata": {},
   "outputs": [],
   "source": [
    "binding_ress_df = binding_ress_df.explode(\"binding_sites\")"
   ]
  },
  {
   "cell_type": "code",
   "execution_count": 27,
   "metadata": {},
   "outputs": [],
   "source": [
    "un_bss = sorted(binding_ress_df.binding_sites.unique().tolist())"
   ]
  },
  {
   "cell_type": "code",
   "execution_count": 28,
   "metadata": {},
   "outputs": [
    {
     "data": {
      "text/plain": [
       "Index(['UniProt_ResNum', 'alignment_column', 'shenkin', 'occ', 'gaps',\n",
       "       'occ_pct', 'gaps_pct', 'rel_norm_shenkin', 'abs_norm_shenkin',\n",
       "       'human_shenkin', 'human_occ', 'human_gaps', 'human_occ_pct',\n",
       "       'human_gaps_pct', 'variants', 'oddsratio', 'pvalue', 'se_OR', 'AA',\n",
       "       'RSA', 'SS', 'binding_sites'],\n",
       "      dtype='object')"
      ]
     },
     "execution_count": 28,
     "metadata": {},
     "output_type": "execute_result"
    }
   ],
   "source": [
    "results_df.columns"
   ]
  },
  {
   "cell_type": "code",
   "execution_count": 29,
   "metadata": {},
   "outputs": [],
   "source": [
    "sizes, occs, shenks, hum_occs, hum_shenks, ORs, RSAs = [[], [], [], [], [], [], []]\n",
    "for bs in un_bss:  \n",
    "    bs_df = binding_ress_df.query('binding_sites == @bs')\n",
    "    sizes.append(len(bs_df))\n",
    "    occs.append(bs_df.occ_pct.mean())\n",
    "    shenks.append(bs_df.abs_norm_shenkin.mean())\n",
    "    hum_occs.append(bs_df.human_occ_pct.mean())\n",
    "    hum_shenks.append(bs_df.human_shenkin.mean())\n",
    "    ORs.append(bs_df.oddsratio.mean())\n",
    "    RSAs.append(bs_df.RSA.mean())\n",
    "\n",
    "bss_df = pd.DataFrame(\n",
    "    zip(un_bss, sizes, occs, shenks, hum_occs, hum_shenks, ORs, RSAs),\n",
    "    columns=[\n",
    "        \"bs_id\", \"size\", \"occ_pct\", \"abs_norm_shenk\", \"human_occ_pct\",\n",
    "        \"human_shenk\", \"OR\", \"RSA\"\n",
    "    ]\n",
    ").round(2)\n",
    "bss_df[\"color\"] = bss_df.bs_id.map(sample_colors_dict)"
   ]
  },
  {
   "cell_type": "code",
   "execution_count": 30,
   "metadata": {},
   "outputs": [
    {
     "data": {
      "text/html": [
       "<div>\n",
       "<style scoped>\n",
       "    .dataframe tbody tr th:only-of-type {\n",
       "        vertical-align: middle;\n",
       "    }\n",
       "\n",
       "    .dataframe tbody tr th {\n",
       "        vertical-align: top;\n",
       "    }\n",
       "\n",
       "    .dataframe thead th {\n",
       "        text-align: right;\n",
       "    }\n",
       "</style>\n",
       "<table border=\"1\" class=\"dataframe\">\n",
       "  <thead>\n",
       "    <tr style=\"text-align: right;\">\n",
       "      <th></th>\n",
       "      <th>bs_id</th>\n",
       "      <th>size</th>\n",
       "      <th>occ_pct</th>\n",
       "      <th>abs_norm_shenk</th>\n",
       "      <th>human_occ_pct</th>\n",
       "      <th>human_shenk</th>\n",
       "      <th>OR</th>\n",
       "      <th>RSA</th>\n",
       "      <th>color</th>\n",
       "    </tr>\n",
       "  </thead>\n",
       "  <tbody>\n",
       "    <tr>\n",
       "      <th>0</th>\n",
       "      <td>0</td>\n",
       "      <td>5</td>\n",
       "      <td>5.17</td>\n",
       "      <td>1.82</td>\n",
       "      <td>43.33</td>\n",
       "      <td>8.07</td>\n",
       "      <td>1.10</td>\n",
       "      <td>37.41</td>\n",
       "      <td>#e6194b</td>\n",
       "    </tr>\n",
       "    <tr>\n",
       "      <th>1</th>\n",
       "      <td>1</td>\n",
       "      <td>6</td>\n",
       "      <td>6.65</td>\n",
       "      <td>2.41</td>\n",
       "      <td>41.67</td>\n",
       "      <td>8.75</td>\n",
       "      <td>1.76</td>\n",
       "      <td>28.51</td>\n",
       "      <td>#3cb44b</td>\n",
       "    </tr>\n",
       "    <tr>\n",
       "      <th>2</th>\n",
       "      <td>2</td>\n",
       "      <td>11</td>\n",
       "      <td>5.88</td>\n",
       "      <td>1.98</td>\n",
       "      <td>27.27</td>\n",
       "      <td>8.26</td>\n",
       "      <td>1.39</td>\n",
       "      <td>29.76</td>\n",
       "      <td>#ffe119</td>\n",
       "    </tr>\n",
       "    <tr>\n",
       "      <th>3</th>\n",
       "      <td>3</td>\n",
       "      <td>12</td>\n",
       "      <td>94.97</td>\n",
       "      <td>6.37</td>\n",
       "      <td>87.50</td>\n",
       "      <td>13.26</td>\n",
       "      <td>0.64</td>\n",
       "      <td>7.57</td>\n",
       "      <td>#4363d8</td>\n",
       "    </tr>\n",
       "  </tbody>\n",
       "</table>\n",
       "</div>"
      ],
      "text/plain": [
       "   bs_id  size  occ_pct  abs_norm_shenk  human_occ_pct  human_shenk    OR  \\\n",
       "0      0     5     5.17            1.82          43.33         8.07  1.10   \n",
       "1      1     6     6.65            2.41          41.67         8.75  1.76   \n",
       "2      2    11     5.88            1.98          27.27         8.26  1.39   \n",
       "3      3    12    94.97            6.37          87.50        13.26  0.64   \n",
       "\n",
       "     RSA    color  \n",
       "0  37.41  #e6194b  \n",
       "1  28.51  #3cb44b  \n",
       "2  29.76  #ffe119  \n",
       "3   7.57  #4363d8  "
      ]
     },
     "execution_count": 30,
     "metadata": {},
     "output_type": "execute_result"
    }
   ],
   "source": [
    "bss_df"
   ]
  },
  {
   "cell_type": "markdown",
   "metadata": {},
   "source": [
    "### Average Missense enrichment vs divergence per site"
   ]
  },
  {
   "cell_type": "code",
   "execution_count": 31,
   "metadata": {},
   "outputs": [
    {
     "data": {
      "image/png": "[encoded data removed]",
      "text/plain": [
       "<Figure size 640x480 with 1 Axes>"
      ]
     },
     "metadata": {},
     "output_type": "display_data"
    }
   ],
   "source": [
    "sns.scatterplot(\n",
    "    data = bss_df,\n",
    "    x = \"abs_norm_shenk\",\n",
    "    y = \"OR\",\n",
    "    hue = \"bs_id\",\n",
    "    palette = bss_df[\"color\"].tolist(),\n",
    "    s = 100\n",
    ")\n",
    "plt.yscale('log')\n",
    "plt.axhline(y=1, linestyle = \"--\", lw = 1, c = \"gray\")\n",
    "plt.axvline(x = 25, linestyle = \"--\", lw = 1, c = \"gray\")\n",
    "plt.axvline(x = 50, linestyle = \"--\", lw = 1, c = \"gray\")\n",
    "\n",
    "plt.legend(bbox_to_anchor=(1.05, 1), loc='upper left')\n",
    "\n",
    "plt.show()"
   ]
  },
  {
   "cell_type": "code",
   "execution_count": 52,
   "metadata": {},
   "outputs": [
    {
     "data": {
      "image/png": "[encoded data removed]",
      "text/plain": [
       "<Figure size 640x480 with 1 Axes>"
      ]
     },
     "metadata": {},
     "output_type": "display_data"
    }
   ],
   "source": [
    "sns.scatterplot(\n",
    "    data = bss_df,\n",
    "    x = \"abs_norm_shenk\",\n",
    "    y = \"RSA\",\n",
    "    hue = \"bs_id\",\n",
    "    palette = bss_df[\"color\"].tolist(),\n",
    "    s = 100\n",
    ")\n",
    "plt.axhline(y=25, linestyle = \"--\", lw = 1, c = \"gray\")\n",
    "plt.axvline(x = 25, linestyle = \"--\", lw = 1, c = \"gray\")\n",
    "plt.axvline(x = 50, linestyle = \"--\", lw = 1, c = \"gray\")\n",
    "plt.ylim(0, 100)\n",
    "plt.legend(bbox_to_anchor=(1.05, 1), loc='upper left')\n",
    "\n",
    "plt.show()"
   ]
  },
  {
   "cell_type": "code",
   "execution_count": 32,
   "metadata": {},
   "outputs": [
    {
     "name": "stdout",
     "output_type": "stream",
     "text": [
      "0.0\n",
      "4.7\n",
      "0.62\n",
      "23.32\n"
     ]
    }
   ],
   "source": [
    "print(binding_ress_df.oddsratio.min())\n",
    "print(binding_ress_df.oddsratio.max())\n",
    "\n",
    "print(binding_ress_df.abs_norm_shenkin.min())\n",
    "print(binding_ress_df.abs_norm_shenkin.max())"
   ]
  },
  {
   "cell_type": "code",
   "execution_count": 33,
   "metadata": {},
   "outputs": [
    {
     "data": {
      "text/html": [
       "<div>\n",
       "<style scoped>\n",
       "    .dataframe tbody tr th:only-of-type {\n",
       "        vertical-align: middle;\n",
       "    }\n",
       "\n",
       "    .dataframe tbody tr th {\n",
       "        vertical-align: top;\n",
       "    }\n",
       "\n",
       "    .dataframe thead th {\n",
       "        text-align: right;\n",
       "    }\n",
       "</style>\n",
       "<table border=\"1\" class=\"dataframe\">\n",
       "  <thead>\n",
       "    <tr style=\"text-align: right;\">\n",
       "      <th></th>\n",
       "      <th>UniProt_ResNum</th>\n",
       "      <th>alignment_column</th>\n",
       "      <th>shenkin</th>\n",
       "      <th>occ</th>\n",
       "      <th>gaps</th>\n",
       "      <th>occ_pct</th>\n",
       "      <th>gaps_pct</th>\n",
       "      <th>rel_norm_shenkin</th>\n",
       "      <th>abs_norm_shenkin</th>\n",
       "      <th>human_shenkin</th>\n",
       "      <th>...</th>\n",
       "      <th>human_occ_pct</th>\n",
       "      <th>human_gaps_pct</th>\n",
       "      <th>variants</th>\n",
       "      <th>oddsratio</th>\n",
       "      <th>pvalue</th>\n",
       "      <th>se_OR</th>\n",
       "      <th>AA</th>\n",
       "      <th>RSA</th>\n",
       "      <th>SS</th>\n",
       "      <th>binding_sites</th>\n",
       "    </tr>\n",
       "  </thead>\n",
       "  <tbody>\n",
       "    <tr>\n",
       "      <th>16</th>\n",
       "      <td>156</td>\n",
       "      <td>19</td>\n",
       "      <td>6.92</td>\n",
       "      <td>12</td>\n",
       "      <td>487</td>\n",
       "      <td>2.40</td>\n",
       "      <td>97.60</td>\n",
       "      <td>0.46</td>\n",
       "      <td>0.81</td>\n",
       "      <td>6.92</td>\n",
       "      <td>...</td>\n",
       "      <td>16.67</td>\n",
       "      <td>83.33</td>\n",
       "      <td>0</td>\n",
       "      <td>0.0</td>\n",
       "      <td>1.00</td>\n",
       "      <td>3.20</td>\n",
       "      <td>S</td>\n",
       "      <td>60.26</td>\n",
       "      <td>C</td>\n",
       "      <td>0</td>\n",
       "    </tr>\n",
       "    <tr>\n",
       "      <th>32</th>\n",
       "      <td>172</td>\n",
       "      <td>41</td>\n",
       "      <td>7.00</td>\n",
       "      <td>13</td>\n",
       "      <td>486</td>\n",
       "      <td>2.61</td>\n",
       "      <td>97.39</td>\n",
       "      <td>0.57</td>\n",
       "      <td>0.88</td>\n",
       "      <td>7.00</td>\n",
       "      <td>...</td>\n",
       "      <td>16.67</td>\n",
       "      <td>83.33</td>\n",
       "      <td>0</td>\n",
       "      <td>0.0</td>\n",
       "      <td>1.00</td>\n",
       "      <td>3.20</td>\n",
       "      <td>S</td>\n",
       "      <td>75.13</td>\n",
       "      <td>T</td>\n",
       "      <td>1</td>\n",
       "    </tr>\n",
       "    <tr>\n",
       "      <th>69</th>\n",
       "      <td>209</td>\n",
       "      <td>86</td>\n",
       "      <td>9.24</td>\n",
       "      <td>43</td>\n",
       "      <td>456</td>\n",
       "      <td>8.62</td>\n",
       "      <td>91.38</td>\n",
       "      <td>3.51</td>\n",
       "      <td>2.84</td>\n",
       "      <td>9.24</td>\n",
       "      <td>...</td>\n",
       "      <td>16.67</td>\n",
       "      <td>83.33</td>\n",
       "      <td>0</td>\n",
       "      <td>0.0</td>\n",
       "      <td>1.00</td>\n",
       "      <td>3.20</td>\n",
       "      <td>L</td>\n",
       "      <td>34.35</td>\n",
       "      <td>S</td>\n",
       "      <td>2</td>\n",
       "    </tr>\n",
       "    <tr>\n",
       "      <th>74</th>\n",
       "      <td>214</td>\n",
       "      <td>91</td>\n",
       "      <td>11.12</td>\n",
       "      <td>60</td>\n",
       "      <td>439</td>\n",
       "      <td>12.02</td>\n",
       "      <td>87.98</td>\n",
       "      <td>5.98</td>\n",
       "      <td>4.49</td>\n",
       "      <td>11.12</td>\n",
       "      <td>...</td>\n",
       "      <td>33.33</td>\n",
       "      <td>66.67</td>\n",
       "      <td>0</td>\n",
       "      <td>0.0</td>\n",
       "      <td>1.00</td>\n",
       "      <td>3.04</td>\n",
       "      <td>M</td>\n",
       "      <td>9.93</td>\n",
       "      <td>H</td>\n",
       "      <td>2</td>\n",
       "    </tr>\n",
       "    <tr>\n",
       "      <th>137</th>\n",
       "      <td>277</td>\n",
       "      <td>183</td>\n",
       "      <td>10.51</td>\n",
       "      <td>471</td>\n",
       "      <td>28</td>\n",
       "      <td>94.39</td>\n",
       "      <td>5.61</td>\n",
       "      <td>5.18</td>\n",
       "      <td>3.96</td>\n",
       "      <td>10.51</td>\n",
       "      <td>...</td>\n",
       "      <td>83.33</td>\n",
       "      <td>16.67</td>\n",
       "      <td>0</td>\n",
       "      <td>0.0</td>\n",
       "      <td>0.33</td>\n",
       "      <td>2.90</td>\n",
       "      <td>C</td>\n",
       "      <td>9.63</td>\n",
       "      <td>E</td>\n",
       "      <td>3</td>\n",
       "    </tr>\n",
       "    <tr>\n",
       "      <th>355</th>\n",
       "      <td>502</td>\n",
       "      <td>497</td>\n",
       "      <td>8.34</td>\n",
       "      <td>28</td>\n",
       "      <td>471</td>\n",
       "      <td>5.61</td>\n",
       "      <td>94.39</td>\n",
       "      <td>2.33</td>\n",
       "      <td>2.05</td>\n",
       "      <td>8.34</td>\n",
       "      <td>...</td>\n",
       "      <td>50.00</td>\n",
       "      <td>50.00</td>\n",
       "      <td>0</td>\n",
       "      <td>0.0</td>\n",
       "      <td>0.56</td>\n",
       "      <td>2.96</td>\n",
       "      <td>S</td>\n",
       "      <td>49.23</td>\n",
       "      <td>H</td>\n",
       "      <td>0</td>\n",
       "    </tr>\n",
       "    <tr>\n",
       "      <th>367</th>\n",
       "      <td>514</td>\n",
       "      <td>509</td>\n",
       "      <td>7.59</td>\n",
       "      <td>22</td>\n",
       "      <td>477</td>\n",
       "      <td>4.41</td>\n",
       "      <td>95.59</td>\n",
       "      <td>1.34</td>\n",
       "      <td>1.39</td>\n",
       "      <td>7.59</td>\n",
       "      <td>...</td>\n",
       "      <td>33.33</td>\n",
       "      <td>66.67</td>\n",
       "      <td>0</td>\n",
       "      <td>0.0</td>\n",
       "      <td>1.00</td>\n",
       "      <td>3.04</td>\n",
       "      <td>I</td>\n",
       "      <td>4.54</td>\n",
       "      <td>H</td>\n",
       "      <td>2</td>\n",
       "    </tr>\n",
       "  </tbody>\n",
       "</table>\n",
       "<p>7 rows × 22 columns</p>\n",
       "</div>"
      ],
      "text/plain": [
       "     UniProt_ResNum  alignment_column  shenkin  occ  gaps  occ_pct  gaps_pct  \\\n",
       "16              156                19     6.92   12   487     2.40     97.60   \n",
       "32              172                41     7.00   13   486     2.61     97.39   \n",
       "69              209                86     9.24   43   456     8.62     91.38   \n",
       "74              214                91    11.12   60   439    12.02     87.98   \n",
       "137             277               183    10.51  471    28    94.39      5.61   \n",
       "355             502               497     8.34   28   471     5.61     94.39   \n",
       "367             514               509     7.59   22   477     4.41     95.59   \n",
       "\n",
       "     rel_norm_shenkin  abs_norm_shenkin  human_shenkin  ...  human_occ_pct  \\\n",
       "16               0.46              0.81           6.92  ...          16.67   \n",
       "32               0.57              0.88           7.00  ...          16.67   \n",
       "69               3.51              2.84           9.24  ...          16.67   \n",
       "74               5.98              4.49          11.12  ...          33.33   \n",
       "137              5.18              3.96          10.51  ...          83.33   \n",
       "355              2.33              2.05           8.34  ...          50.00   \n",
       "367              1.34              1.39           7.59  ...          33.33   \n",
       "\n",
       "     human_gaps_pct  variants  oddsratio  pvalue  se_OR  AA    RSA SS  \\\n",
       "16            83.33         0        0.0    1.00   3.20   S  60.26  C   \n",
       "32            83.33         0        0.0    1.00   3.20   S  75.13  T   \n",
       "69            83.33         0        0.0    1.00   3.20   L  34.35  S   \n",
       "74            66.67         0        0.0    1.00   3.04   M   9.93  H   \n",
       "137           16.67         0        0.0    0.33   2.90   C   9.63  E   \n",
       "355           50.00         0        0.0    0.56   2.96   S  49.23  H   \n",
       "367           66.67         0        0.0    1.00   3.04   I   4.54  H   \n",
       "\n",
       "     binding_sites  \n",
       "16               0  \n",
       "32               1  \n",
       "69               2  \n",
       "74               2  \n",
       "137              3  \n",
       "355              0  \n",
       "367              2  \n",
       "\n",
       "[7 rows x 22 columns]"
      ]
     },
     "execution_count": 33,
     "metadata": {},
     "output_type": "execute_result"
    }
   ],
   "source": [
    "binding_ress_df.query('oddsratio == 0')"
   ]
  },
  {
   "cell_type": "markdown",
   "metadata": {},
   "source": [
    "### Inspecting binding site ligand membership"
   ]
  },
  {
   "cell_type": "code",
   "execution_count": 34,
   "metadata": {},
   "outputs": [],
   "source": [
    "bs_ligs_dict = {bs_id: sorted(bs_rows.lig_name.tolist()) for bs_id, bs_rows in bs_def_df.groupby(\"binding_site\")}"
   ]
  },
  {
   "cell_type": "code",
   "execution_count": 35,
   "metadata": {},
   "outputs": [
    {
     "name": "stdout",
     "output_type": "stream",
     "text": [
      "0: ['ACT']\n",
      "1: ['ACT']\n",
      "2: ['LIG']\n",
      "3: ['MLA', 'MLA']\n"
     ]
    }
   ],
   "source": [
    "for k, v in bs_ligs_dict.items():\n",
    "    print(\"{}: {}\".format(k, v))"
   ]
  },
  {
   "cell_type": "code",
   "execution_count": 59,
   "metadata": {},
   "outputs": [
    {
     "data": {
      "text/html": [
       "<div>\n",
       "<style scoped>\n",
       "    .dataframe tbody tr th:only-of-type {\n",
       "        vertical-align: middle;\n",
       "    }\n",
       "\n",
       "    .dataframe tbody tr th {\n",
       "        vertical-align: top;\n",
       "    }\n",
       "\n",
       "    .dataframe thead th {\n",
       "        text-align: right;\n",
       "    }\n",
       "</style>\n",
       "<table border=\"1\" class=\"dataframe\">\n",
       "  <thead>\n",
       "    <tr style=\"text-align: right;\">\n",
       "      <th></th>\n",
       "      <th>UniProt_ResNum</th>\n",
       "      <th>alignment_column</th>\n",
       "      <th>shenkin</th>\n",
       "      <th>occ</th>\n",
       "      <th>gaps</th>\n",
       "      <th>occ_pct</th>\n",
       "      <th>gaps_pct</th>\n",
       "      <th>rel_norm_shenkin</th>\n",
       "      <th>abs_norm_shenkin</th>\n",
       "      <th>human_shenkin</th>\n",
       "      <th>...</th>\n",
       "      <th>human_occ_pct</th>\n",
       "      <th>human_gaps_pct</th>\n",
       "      <th>variants</th>\n",
       "      <th>oddsratio</th>\n",
       "      <th>pvalue</th>\n",
       "      <th>se_OR</th>\n",
       "      <th>AA</th>\n",
       "      <th>RSA</th>\n",
       "      <th>SS</th>\n",
       "      <th>binding_sites</th>\n",
       "    </tr>\n",
       "  </thead>\n",
       "  <tbody>\n",
       "    <tr>\n",
       "      <th>99</th>\n",
       "      <td>239</td>\n",
       "      <td>126</td>\n",
       "      <td>10.51</td>\n",
       "      <td>381</td>\n",
       "      <td>118</td>\n",
       "      <td>76.35</td>\n",
       "      <td>23.65</td>\n",
       "      <td>5.18</td>\n",
       "      <td>3.96</td>\n",
       "      <td>10.51</td>\n",
       "      <td>...</td>\n",
       "      <td>66.67</td>\n",
       "      <td>33.33</td>\n",
       "      <td>1</td>\n",
       "      <td>0.59</td>\n",
       "      <td>1.00</td>\n",
       "      <td>2.19</td>\n",
       "      <td>K</td>\n",
       "      <td>17.72</td>\n",
       "      <td>H</td>\n",
       "      <td>3</td>\n",
       "    </tr>\n",
       "    <tr>\n",
       "      <th>135</th>\n",
       "      <td>275</td>\n",
       "      <td>181</td>\n",
       "      <td>8.80</td>\n",
       "      <td>467</td>\n",
       "      <td>32</td>\n",
       "      <td>93.59</td>\n",
       "      <td>6.41</td>\n",
       "      <td>2.93</td>\n",
       "      <td>2.46</td>\n",
       "      <td>8.80</td>\n",
       "      <td>...</td>\n",
       "      <td>83.33</td>\n",
       "      <td>16.67</td>\n",
       "      <td>1</td>\n",
       "      <td>0.47</td>\n",
       "      <td>0.68</td>\n",
       "      <td>2.15</td>\n",
       "      <td>D</td>\n",
       "      <td>2.04</td>\n",
       "      <td>E</td>\n",
       "      <td>3</td>\n",
       "    </tr>\n",
       "    <tr>\n",
       "      <th>136</th>\n",
       "      <td>276</td>\n",
       "      <td>182</td>\n",
       "      <td>10.55</td>\n",
       "      <td>467</td>\n",
       "      <td>32</td>\n",
       "      <td>93.59</td>\n",
       "      <td>6.41</td>\n",
       "      <td>5.23</td>\n",
       "      <td>3.99</td>\n",
       "      <td>10.55</td>\n",
       "      <td>...</td>\n",
       "      <td>83.33</td>\n",
       "      <td>16.67</td>\n",
       "      <td>1</td>\n",
       "      <td>0.47</td>\n",
       "      <td>0.68</td>\n",
       "      <td>2.15</td>\n",
       "      <td>V</td>\n",
       "      <td>0.00</td>\n",
       "      <td>E</td>\n",
       "      <td>3</td>\n",
       "    </tr>\n",
       "    <tr>\n",
       "      <th>137</th>\n",
       "      <td>277</td>\n",
       "      <td>183</td>\n",
       "      <td>10.51</td>\n",
       "      <td>471</td>\n",
       "      <td>28</td>\n",
       "      <td>94.39</td>\n",
       "      <td>5.61</td>\n",
       "      <td>5.18</td>\n",
       "      <td>3.96</td>\n",
       "      <td>10.51</td>\n",
       "      <td>...</td>\n",
       "      <td>83.33</td>\n",
       "      <td>16.67</td>\n",
       "      <td>0</td>\n",
       "      <td>0.00</td>\n",
       "      <td>0.33</td>\n",
       "      <td>2.90</td>\n",
       "      <td>C</td>\n",
       "      <td>9.63</td>\n",
       "      <td>E</td>\n",
       "      <td>3</td>\n",
       "    </tr>\n",
       "    <tr>\n",
       "      <th>143</th>\n",
       "      <td>283</td>\n",
       "      <td>189</td>\n",
       "      <td>9.96</td>\n",
       "      <td>471</td>\n",
       "      <td>28</td>\n",
       "      <td>94.39</td>\n",
       "      <td>5.61</td>\n",
       "      <td>4.46</td>\n",
       "      <td>3.47</td>\n",
       "      <td>9.96</td>\n",
       "      <td>...</td>\n",
       "      <td>83.33</td>\n",
       "      <td>16.67</td>\n",
       "      <td>1</td>\n",
       "      <td>0.47</td>\n",
       "      <td>0.68</td>\n",
       "      <td>2.15</td>\n",
       "      <td>F</td>\n",
       "      <td>10.66</td>\n",
       "      <td>H</td>\n",
       "      <td>3</td>\n",
       "    </tr>\n",
       "    <tr>\n",
       "      <th>215</th>\n",
       "      <td>362</td>\n",
       "      <td>334</td>\n",
       "      <td>28.71</td>\n",
       "      <td>482</td>\n",
       "      <td>17</td>\n",
       "      <td>96.59</td>\n",
       "      <td>3.41</td>\n",
       "      <td>29.12</td>\n",
       "      <td>19.92</td>\n",
       "      <td>28.71</td>\n",
       "      <td>...</td>\n",
       "      <td>83.33</td>\n",
       "      <td>16.67</td>\n",
       "      <td>2</td>\n",
       "      <td>0.94</td>\n",
       "      <td>1.00</td>\n",
       "      <td>1.64</td>\n",
       "      <td>M</td>\n",
       "      <td>0.00</td>\n",
       "      <td>E</td>\n",
       "      <td>3</td>\n",
       "    </tr>\n",
       "    <tr>\n",
       "      <th>216</th>\n",
       "      <td>363</td>\n",
       "      <td>335</td>\n",
       "      <td>15.23</td>\n",
       "      <td>482</td>\n",
       "      <td>17</td>\n",
       "      <td>96.59</td>\n",
       "      <td>3.41</td>\n",
       "      <td>11.39</td>\n",
       "      <td>8.10</td>\n",
       "      <td>15.23</td>\n",
       "      <td>...</td>\n",
       "      <td>83.33</td>\n",
       "      <td>16.67</td>\n",
       "      <td>2</td>\n",
       "      <td>0.94</td>\n",
       "      <td>1.00</td>\n",
       "      <td>1.64</td>\n",
       "      <td>A</td>\n",
       "      <td>4.72</td>\n",
       "      <td>E</td>\n",
       "      <td>3</td>\n",
       "    </tr>\n",
       "    <tr>\n",
       "      <th>217</th>\n",
       "      <td>364</td>\n",
       "      <td>336</td>\n",
       "      <td>7.22</td>\n",
       "      <td>482</td>\n",
       "      <td>17</td>\n",
       "      <td>96.59</td>\n",
       "      <td>3.41</td>\n",
       "      <td>0.85</td>\n",
       "      <td>1.07</td>\n",
       "      <td>7.22</td>\n",
       "      <td>...</td>\n",
       "      <td>83.33</td>\n",
       "      <td>16.67</td>\n",
       "      <td>3</td>\n",
       "      <td>1.41</td>\n",
       "      <td>0.70</td>\n",
       "      <td>1.43</td>\n",
       "      <td>D</td>\n",
       "      <td>27.20</td>\n",
       "      <td>E</td>\n",
       "      <td>3</td>\n",
       "    </tr>\n",
       "    <tr>\n",
       "      <th>256</th>\n",
       "      <td>403</td>\n",
       "      <td>380</td>\n",
       "      <td>32.58</td>\n",
       "      <td>497</td>\n",
       "      <td>2</td>\n",
       "      <td>99.60</td>\n",
       "      <td>0.40</td>\n",
       "      <td>34.21</td>\n",
       "      <td>23.32</td>\n",
       "      <td>32.58</td>\n",
       "      <td>...</td>\n",
       "      <td>100.00</td>\n",
       "      <td>0.00</td>\n",
       "      <td>1</td>\n",
       "      <td>0.39</td>\n",
       "      <td>0.68</td>\n",
       "      <td>2.12</td>\n",
       "      <td>C</td>\n",
       "      <td>0.00</td>\n",
       "      <td>E</td>\n",
       "      <td>3</td>\n",
       "    </tr>\n",
       "    <tr>\n",
       "      <th>257</th>\n",
       "      <td>404</td>\n",
       "      <td>381</td>\n",
       "      <td>6.84</td>\n",
       "      <td>497</td>\n",
       "      <td>2</td>\n",
       "      <td>99.60</td>\n",
       "      <td>0.40</td>\n",
       "      <td>0.36</td>\n",
       "      <td>0.74</td>\n",
       "      <td>6.84</td>\n",
       "      <td>...</td>\n",
       "      <td>100.00</td>\n",
       "      <td>0.00</td>\n",
       "      <td>1</td>\n",
       "      <td>0.39</td>\n",
       "      <td>0.68</td>\n",
       "      <td>2.12</td>\n",
       "      <td>K</td>\n",
       "      <td>11.71</td>\n",
       "      <td>E</td>\n",
       "      <td>3</td>\n",
       "    </tr>\n",
       "    <tr>\n",
       "      <th>294</th>\n",
       "      <td>441</td>\n",
       "      <td>422</td>\n",
       "      <td>6.71</td>\n",
       "      <td>495</td>\n",
       "      <td>4</td>\n",
       "      <td>99.20</td>\n",
       "      <td>0.80</td>\n",
       "      <td>0.18</td>\n",
       "      <td>0.62</td>\n",
       "      <td>6.71</td>\n",
       "      <td>...</td>\n",
       "      <td>100.00</td>\n",
       "      <td>0.00</td>\n",
       "      <td>2</td>\n",
       "      <td>0.78</td>\n",
       "      <td>1.00</td>\n",
       "      <td>1.60</td>\n",
       "      <td>E</td>\n",
       "      <td>4.81</td>\n",
       "      <td>C</td>\n",
       "      <td>3</td>\n",
       "    </tr>\n",
       "    <tr>\n",
       "      <th>296</th>\n",
       "      <td>443</td>\n",
       "      <td>424</td>\n",
       "      <td>11.55</td>\n",
       "      <td>495</td>\n",
       "      <td>4</td>\n",
       "      <td>99.20</td>\n",
       "      <td>0.80</td>\n",
       "      <td>6.55</td>\n",
       "      <td>4.87</td>\n",
       "      <td>11.55</td>\n",
       "      <td>...</td>\n",
       "      <td>100.00</td>\n",
       "      <td>0.00</td>\n",
       "      <td>2</td>\n",
       "      <td>0.78</td>\n",
       "      <td>1.00</td>\n",
       "      <td>1.60</td>\n",
       "      <td>Y</td>\n",
       "      <td>2.40</td>\n",
       "      <td>E</td>\n",
       "      <td>3</td>\n",
       "    </tr>\n",
       "  </tbody>\n",
       "</table>\n",
       "<p>12 rows × 22 columns</p>\n",
       "</div>"
      ],
      "text/plain": [
       "     UniProt_ResNum  alignment_column  shenkin  occ  gaps  occ_pct  gaps_pct  \\\n",
       "99              239               126    10.51  381   118    76.35     23.65   \n",
       "135             275               181     8.80  467    32    93.59      6.41   \n",
       "136             276               182    10.55  467    32    93.59      6.41   \n",
       "137             277               183    10.51  471    28    94.39      5.61   \n",
       "143             283               189     9.96  471    28    94.39      5.61   \n",
       "215             362               334    28.71  482    17    96.59      3.41   \n",
       "216             363               335    15.23  482    17    96.59      3.41   \n",
       "217             364               336     7.22  482    17    96.59      3.41   \n",
       "256             403               380    32.58  497     2    99.60      0.40   \n",
       "257             404               381     6.84  497     2    99.60      0.40   \n",
       "294             441               422     6.71  495     4    99.20      0.80   \n",
       "296             443               424    11.55  495     4    99.20      0.80   \n",
       "\n",
       "     rel_norm_shenkin  abs_norm_shenkin  human_shenkin  ...  human_occ_pct  \\\n",
       "99               5.18              3.96          10.51  ...          66.67   \n",
       "135              2.93              2.46           8.80  ...          83.33   \n",
       "136              5.23              3.99          10.55  ...          83.33   \n",
       "137              5.18              3.96          10.51  ...          83.33   \n",
       "143              4.46              3.47           9.96  ...          83.33   \n",
       "215             29.12             19.92          28.71  ...          83.33   \n",
       "216             11.39              8.10          15.23  ...          83.33   \n",
       "217              0.85              1.07           7.22  ...          83.33   \n",
       "256             34.21             23.32          32.58  ...         100.00   \n",
       "257              0.36              0.74           6.84  ...         100.00   \n",
       "294              0.18              0.62           6.71  ...         100.00   \n",
       "296              6.55              4.87          11.55  ...         100.00   \n",
       "\n",
       "     human_gaps_pct  variants  oddsratio  pvalue  se_OR  AA    RSA SS  \\\n",
       "99            33.33         1       0.59    1.00   2.19   K  17.72  H   \n",
       "135           16.67         1       0.47    0.68   2.15   D   2.04  E   \n",
       "136           16.67         1       0.47    0.68   2.15   V   0.00  E   \n",
       "137           16.67         0       0.00    0.33   2.90   C   9.63  E   \n",
       "143           16.67         1       0.47    0.68   2.15   F  10.66  H   \n",
       "215           16.67         2       0.94    1.00   1.64   M   0.00  E   \n",
       "216           16.67         2       0.94    1.00   1.64   A   4.72  E   \n",
       "217           16.67         3       1.41    0.70   1.43   D  27.20  E   \n",
       "256            0.00         1       0.39    0.68   2.12   C   0.00  E   \n",
       "257            0.00         1       0.39    0.68   2.12   K  11.71  E   \n",
       "294            0.00         2       0.78    1.00   1.60   E   4.81  C   \n",
       "296            0.00         2       0.78    1.00   1.60   Y   2.40  E   \n",
       "\n",
       "     binding_sites  \n",
       "99               3  \n",
       "135              3  \n",
       "136              3  \n",
       "137              3  \n",
       "143              3  \n",
       "215              3  \n",
       "216              3  \n",
       "217              3  \n",
       "256              3  \n",
       "257              3  \n",
       "294              3  \n",
       "296              3  \n",
       "\n",
       "[12 rows x 22 columns]"
      ]
     },
     "execution_count": 59,
     "metadata": {},
     "output_type": "execute_result"
    }
   ],
   "source": [
    "binding_ress_df.query('binding_sites == 3')"
   ]
  },
  {
   "cell_type": "code",
   "execution_count": 37,
   "metadata": {},
   "outputs": [
    {
     "data": {
      "text/html": [
       "<div>\n",
       "<style scoped>\n",
       "    .dataframe tbody tr th:only-of-type {\n",
       "        vertical-align: middle;\n",
       "    }\n",
       "\n",
       "    .dataframe tbody tr th {\n",
       "        vertical-align: top;\n",
       "    }\n",
       "\n",
       "    .dataframe thead th {\n",
       "        text-align: right;\n",
       "    }\n",
       "</style>\n",
       "<table border=\"1\" class=\"dataframe\">\n",
       "  <thead>\n",
       "    <tr style=\"text-align: right;\">\n",
       "      <th></th>\n",
       "      <th>UniProt_ResNum</th>\n",
       "      <th>alignment_column</th>\n",
       "      <th>shenkin</th>\n",
       "      <th>occ</th>\n",
       "      <th>gaps</th>\n",
       "      <th>occ_pct</th>\n",
       "      <th>gaps_pct</th>\n",
       "      <th>rel_norm_shenkin</th>\n",
       "      <th>abs_norm_shenkin</th>\n",
       "      <th>human_shenkin</th>\n",
       "      <th>...</th>\n",
       "      <th>human_occ_pct</th>\n",
       "      <th>human_gaps_pct</th>\n",
       "      <th>variants</th>\n",
       "      <th>oddsratio</th>\n",
       "      <th>pvalue</th>\n",
       "      <th>se_OR</th>\n",
       "      <th>AA</th>\n",
       "      <th>RSA</th>\n",
       "      <th>SS</th>\n",
       "      <th>binding_sites</th>\n",
       "    </tr>\n",
       "  </thead>\n",
       "  <tbody>\n",
       "  </tbody>\n",
       "</table>\n",
       "<p>0 rows × 22 columns</p>\n",
       "</div>"
      ],
      "text/plain": [
       "Empty DataFrame\n",
       "Columns: [UniProt_ResNum, alignment_column, shenkin, occ, gaps, occ_pct, gaps_pct, rel_norm_shenkin, abs_norm_shenkin, human_shenkin, human_occ, human_gaps, human_occ_pct, human_gaps_pct, variants, oddsratio, pvalue, se_OR, AA, RSA, SS, binding_sites]\n",
       "Index: []\n",
       "\n",
       "[0 rows x 22 columns]"
      ]
     },
     "execution_count": 37,
     "metadata": {},
     "output_type": "execute_result"
    }
   ],
   "source": [
    "binding_ress_df.query('binding_sites == 12 & pvalue < 0.1')"
   ]
  },
  {
   "cell_type": "markdown",
   "metadata": {},
   "source": [
    "### Plotting Missense enrichment vs Divergence for each site"
   ]
  },
  {
   "cell_type": "code",
   "execution_count": 54,
   "metadata": {},
   "outputs": [
    {
     "data": {
      "image/png": "[encoded data removed]",
      "text/plain": [
       "<Figure size 640x480 with 1 Axes>"
      ]
     },
     "metadata": {},
     "output_type": "display_data"
    },
    {
     "data": {
      "image/png": "[encoded data removed]",
      "text/plain": [
       "<Figure size 640x480 with 1 Axes>"
      ]
     },
     "metadata": {},
     "output_type": "display_data"
    },
    {
     "data": {
      "image/png": "[encoded data removed]",
      "text/plain": [
       "<Figure size 640x480 with 1 Axes>"
      ]
     },
     "metadata": {},
     "output_type": "display_data"
    },
    {
     "data": {
      "image/png": "[encoded data removed]",
      "text/plain": [
       "<Figure size 640x480 with 1 Axes>"
      ]
     },
     "metadata": {},
     "output_type": "display_data"
    }
   ],
   "source": [
    "for bs in un_bss:  \n",
    "    bs_df = binding_ress_df.query('binding_sites == @bs')\n",
    "    sns.scatterplot(\n",
    "        data = bs_df,\n",
    "        x = \"abs_norm_shenkin\",\n",
    "        y = \"RSA\",\n",
    "        hue = \"binding_sites\",\n",
    "        palette = [sample_colors[bs]],\n",
    "        s = 100\n",
    "    )\n",
    "    #print([sample_colors[bs] for i in range(len(bs_df))])\n",
    "    #plt.yscale('log')\n",
    "    plt.axhline(y=25, linestyle = \"--\", lw = 1, c = \"gray\")\n",
    "    plt.axvline(x = 25, linestyle = \"--\", lw = 1, c = \"gray\")\n",
    "    plt.axvline(x = 50, linestyle = \"--\", lw = 1, c = \"gray\")\n",
    "    plt.axvline(x = 75, linestyle = \"--\", lw = 1, c = \"gray\")\n",
    "    \n",
    "    plt.xlim(0,100)\n",
    "    plt.ylim(0,100)\n",
    "\n",
    "    plt.legend(bbox_to_anchor=(1.05, 1), loc='upper left')\n",
    "\n",
    "    plt.show()"
   ]
  },
  {
   "cell_type": "markdown",
   "metadata": {},
   "source": [
    "## FUNCTIONAL SCORE PER SITE"
   ]
  },
  {
   "cell_type": "code",
   "execution_count": 39,
   "metadata": {},
   "outputs": [
    {
     "data": {
      "text/plain": [
       "{0: [60.26, 3.45, 55.64, 18.46, 49.23],\n",
       " 1: [1.95, 75.13, 32.62, 12.31, 49.06, 0.0],\n",
       " 2: [27.16, 69.01, 13.71, 34.35, 9.93, 6.5, 23.9, 4.54, 55.43, 10.56, 72.22],\n",
       " 3: [17.72, 2.04, 0.0, 9.63, 10.66, 0.0, 4.72, 27.2, 0.0, 11.71, 4.81, 2.4]}"
      ]
     },
     "execution_count": 39,
     "metadata": {},
     "output_type": "execute_result"
    }
   ],
   "source": [
    "rsa_profs_dict"
   ]
  },
  {
   "cell_type": "code",
   "execution_count": 40,
   "metadata": {},
   "outputs": [],
   "source": [
    "max_len = max([len(v) for v in rsa_profs_dict.values()])\n",
    "bs_vectors = []\n",
    "bs_vectors_dict = {}\n",
    "for bs_id, rsa_sig in rsa_profs_dict.items():\n",
    "    rsa_sig_len = len(rsa_sig)\n",
    "    rsa_range_prop = [0 for i in range(10)] # now let us change to 10\n",
    "    for rsa in rsa_sig:\n",
    "        prop_i = int(rsa/10) # 10 RSA BINS: b1 = [0,10), b2 = [10, 20), ... b10 = [90, MAX)\n",
    "        if prop_i > 9: # if greater than 100, put in 10th bin\n",
    "            prop_i = 9\n",
    "        #print(prop_i)\n",
    "        rsa_range_prop[prop_i] += 1\n",
    "    rsa_range_prop = [round(i/rsa_sig_len, 3) for i in rsa_range_prop]\n",
    "    rsa_range_prop.insert(0, rsa_sig_len/max_len) # ADDING BINDING SITE SIZE RELATIVE TO MAX SITE SIZE (IN THIS CASE 40)\n",
    "    bs_vectors.append(rsa_range_prop)\n",
    "    bs_vectors_dict[bs_id] = rsa_range_prop\n",
    "    \n",
    "vector_df = pd.DataFrame(bs_vectors, index = list(rsa_profs_dict.keys())) # obtaining RSA vectors, which are the 11-element features used for the machine learning"
   ]
  },
  {
   "cell_type": "code",
   "execution_count": 41,
   "metadata": {},
   "outputs": [
    {
     "data": {
      "text/html": [
       "<div>\n",
       "<style scoped>\n",
       "    .dataframe tbody tr th:only-of-type {\n",
       "        vertical-align: middle;\n",
       "    }\n",
       "\n",
       "    .dataframe tbody tr th {\n",
       "        vertical-align: top;\n",
       "    }\n",
       "\n",
       "    .dataframe thead th {\n",
       "        text-align: right;\n",
       "    }\n",
       "</style>\n",
       "<table border=\"1\" class=\"dataframe\">\n",
       "  <thead>\n",
       "    <tr style=\"text-align: right;\">\n",
       "      <th></th>\n",
       "      <th>0</th>\n",
       "      <th>1</th>\n",
       "      <th>2</th>\n",
       "      <th>3</th>\n",
       "      <th>4</th>\n",
       "      <th>5</th>\n",
       "      <th>6</th>\n",
       "      <th>7</th>\n",
       "      <th>8</th>\n",
       "      <th>9</th>\n",
       "      <th>10</th>\n",
       "    </tr>\n",
       "  </thead>\n",
       "  <tbody>\n",
       "    <tr>\n",
       "      <th>0</th>\n",
       "      <td>0.416667</td>\n",
       "      <td>0.200</td>\n",
       "      <td>0.200</td>\n",
       "      <td>0.000</td>\n",
       "      <td>0.000</td>\n",
       "      <td>0.200</td>\n",
       "      <td>0.200</td>\n",
       "      <td>0.200</td>\n",
       "      <td>0.000</td>\n",
       "      <td>0.0</td>\n",
       "      <td>0.0</td>\n",
       "    </tr>\n",
       "    <tr>\n",
       "      <th>1</th>\n",
       "      <td>0.500000</td>\n",
       "      <td>0.333</td>\n",
       "      <td>0.167</td>\n",
       "      <td>0.000</td>\n",
       "      <td>0.167</td>\n",
       "      <td>0.167</td>\n",
       "      <td>0.000</td>\n",
       "      <td>0.000</td>\n",
       "      <td>0.167</td>\n",
       "      <td>0.0</td>\n",
       "      <td>0.0</td>\n",
       "    </tr>\n",
       "    <tr>\n",
       "      <th>2</th>\n",
       "      <td>0.916667</td>\n",
       "      <td>0.273</td>\n",
       "      <td>0.182</td>\n",
       "      <td>0.182</td>\n",
       "      <td>0.091</td>\n",
       "      <td>0.000</td>\n",
       "      <td>0.091</td>\n",
       "      <td>0.091</td>\n",
       "      <td>0.091</td>\n",
       "      <td>0.0</td>\n",
       "      <td>0.0</td>\n",
       "    </tr>\n",
       "    <tr>\n",
       "      <th>3</th>\n",
       "      <td>1.000000</td>\n",
       "      <td>0.667</td>\n",
       "      <td>0.250</td>\n",
       "      <td>0.083</td>\n",
       "      <td>0.000</td>\n",
       "      <td>0.000</td>\n",
       "      <td>0.000</td>\n",
       "      <td>0.000</td>\n",
       "      <td>0.000</td>\n",
       "      <td>0.0</td>\n",
       "      <td>0.0</td>\n",
       "    </tr>\n",
       "  </tbody>\n",
       "</table>\n",
       "</div>"
      ],
      "text/plain": [
       "         0      1      2      3      4      5      6      7      8    9    10\n",
       "0  0.416667  0.200  0.200  0.000  0.000  0.200  0.200  0.200  0.000  0.0  0.0\n",
       "1  0.500000  0.333  0.167  0.000  0.167  0.167  0.000  0.000  0.167  0.0  0.0\n",
       "2  0.916667  0.273  0.182  0.182  0.091  0.000  0.091  0.091  0.091  0.0  0.0\n",
       "3  1.000000  0.667  0.250  0.083  0.000  0.000  0.000  0.000  0.000  0.0  0.0"
      ]
     },
     "execution_count": 41,
     "metadata": {},
     "output_type": "execute_result"
    }
   ],
   "source": [
    "vector_df"
   ]
  },
  {
   "cell_type": "code",
   "execution_count": 42,
   "metadata": {},
   "outputs": [
    {
     "name": "stderr",
     "output_type": "stream",
     "text": [
      "2023-09-11 15:50:39.108055: I tensorflow/core/platform/cpu_feature_guard.cc:193] This TensorFlow binary is optimized with oneAPI Deep Neural Network Library (oneDNN) to use the following CPU instructions in performance-critical operations:  SSE4.1 SSE4.2\n",
      "To enable them in other operations, rebuild TensorFlow with the appropriate compiler flags.\n"
     ]
    }
   ],
   "source": [
    "import keras"
   ]
  },
  {
   "cell_type": "code",
   "execution_count": 43,
   "metadata": {},
   "outputs": [
    {
     "name": "stderr",
     "output_type": "stream",
     "text": [
      "2023-09-11 15:50:42.250467: I tensorflow/core/platform/cpu_feature_guard.cc:193] This TensorFlow binary is optimized with oneAPI Deep Neural Network Library (oneDNN) to use the following CPU instructions in performance-critical operations:  SSE4.1 SSE4.2\n",
      "To enable them in other operations, rebuild TensorFlow with the appropriate compiler flags.\n"
     ]
    }
   ],
   "source": [
    "model_path = \"/homes/2394007/JSU_LIGYSIS/ANN_results/diff_seeds/85406/models/85406_4_model_epoch_75_train_acc_0.88.h5\"\n",
    "final_model = keras.models.load_model(model_path)\n",
    "final_preds = final_model.predict(x = vector_df, batch_size = 27, verbose = 0)\n",
    "rounded_predictions = np.argmax(final_preds, axis = -1)"
   ]
  },
  {
   "cell_type": "code",
   "execution_count": 44,
   "metadata": {},
   "outputs": [],
   "source": [
    "prop_func_dict = {0:0.58, 1: 0.18, 2:0.05, 3:0.04}"
   ]
  },
  {
   "cell_type": "code",
   "execution_count": 45,
   "metadata": {},
   "outputs": [],
   "source": [
    "site_func_score_dict = {}\n",
    "for i, el in enumerate(final_preds):\n",
    "    site_func_score_dict[i] = 0\n",
    "    for o, e in enumerate(el):\n",
    "        site_func_score_dict[i] += e*prop_func_dict[o]\n",
    "    #print([round(e,6) for e in el])\n",
    "    \n",
    "site_func_score_dict = {k: round(v, 4) for k, v in site_func_score_dict.items()}"
   ]
  },
  {
   "cell_type": "code",
   "execution_count": 46,
   "metadata": {},
   "outputs": [
    {
     "data": {
      "text/plain": [
       "{0: 0.1442, 1: 0.408, 2: 0.4193, 3: 0.58}"
      ]
     },
     "execution_count": 46,
     "metadata": {},
     "output_type": "execute_result"
    }
   ],
   "source": [
    "site_func_score_dict"
   ]
  },
  {
   "cell_type": "code",
   "execution_count": 47,
   "metadata": {},
   "outputs": [],
   "source": [
    "bss_df[\"rsa_cluster\"] = [el + 1 for el in list(rounded_predictions)]\n",
    "bss_df[\"func_score\"] = bss_df.bs_id.map(site_func_score_dict)"
   ]
  },
  {
   "cell_type": "code",
   "execution_count": 48,
   "metadata": {},
   "outputs": [
    {
     "data": {
      "text/html": [
       "<div>\n",
       "<style scoped>\n",
       "    .dataframe tbody tr th:only-of-type {\n",
       "        vertical-align: middle;\n",
       "    }\n",
       "\n",
       "    .dataframe tbody tr th {\n",
       "        vertical-align: top;\n",
       "    }\n",
       "\n",
       "    .dataframe thead th {\n",
       "        text-align: right;\n",
       "    }\n",
       "</style>\n",
       "<table border=\"1\" class=\"dataframe\">\n",
       "  <thead>\n",
       "    <tr style=\"text-align: right;\">\n",
       "      <th></th>\n",
       "      <th>bs_id</th>\n",
       "      <th>size</th>\n",
       "      <th>occ_pct</th>\n",
       "      <th>abs_norm_shenk</th>\n",
       "      <th>human_occ_pct</th>\n",
       "      <th>human_shenk</th>\n",
       "      <th>OR</th>\n",
       "      <th>RSA</th>\n",
       "      <th>color</th>\n",
       "      <th>rsa_cluster</th>\n",
       "      <th>func_score</th>\n",
       "    </tr>\n",
       "  </thead>\n",
       "  <tbody>\n",
       "    <tr>\n",
       "      <th>0</th>\n",
       "      <td>0</td>\n",
       "      <td>5</td>\n",
       "      <td>5.17</td>\n",
       "      <td>1.82</td>\n",
       "      <td>43.33</td>\n",
       "      <td>8.07</td>\n",
       "      <td>1.10</td>\n",
       "      <td>37.41</td>\n",
       "      <td>#e6194b</td>\n",
       "      <td>2</td>\n",
       "      <td>0.1442</td>\n",
       "    </tr>\n",
       "    <tr>\n",
       "      <th>1</th>\n",
       "      <td>1</td>\n",
       "      <td>6</td>\n",
       "      <td>6.65</td>\n",
       "      <td>2.41</td>\n",
       "      <td>41.67</td>\n",
       "      <td>8.75</td>\n",
       "      <td>1.76</td>\n",
       "      <td>28.51</td>\n",
       "      <td>#3cb44b</td>\n",
       "      <td>1</td>\n",
       "      <td>0.4080</td>\n",
       "    </tr>\n",
       "    <tr>\n",
       "      <th>2</th>\n",
       "      <td>2</td>\n",
       "      <td>11</td>\n",
       "      <td>5.88</td>\n",
       "      <td>1.98</td>\n",
       "      <td>27.27</td>\n",
       "      <td>8.26</td>\n",
       "      <td>1.39</td>\n",
       "      <td>29.76</td>\n",
       "      <td>#ffe119</td>\n",
       "      <td>1</td>\n",
       "      <td>0.4193</td>\n",
       "    </tr>\n",
       "    <tr>\n",
       "      <th>3</th>\n",
       "      <td>3</td>\n",
       "      <td>12</td>\n",
       "      <td>94.97</td>\n",
       "      <td>6.37</td>\n",
       "      <td>87.50</td>\n",
       "      <td>13.26</td>\n",
       "      <td>0.64</td>\n",
       "      <td>7.57</td>\n",
       "      <td>#4363d8</td>\n",
       "      <td>1</td>\n",
       "      <td>0.5800</td>\n",
       "    </tr>\n",
       "  </tbody>\n",
       "</table>\n",
       "</div>"
      ],
      "text/plain": [
       "   bs_id  size  occ_pct  abs_norm_shenk  human_occ_pct  human_shenk    OR  \\\n",
       "0      0     5     5.17            1.82          43.33         8.07  1.10   \n",
       "1      1     6     6.65            2.41          41.67         8.75  1.76   \n",
       "2      2    11     5.88            1.98          27.27         8.26  1.39   \n",
       "3      3    12    94.97            6.37          87.50        13.26  0.64   \n",
       "\n",
       "     RSA    color  rsa_cluster  func_score  \n",
       "0  37.41  #e6194b            2      0.1442  \n",
       "1  28.51  #3cb44b            1      0.4080  \n",
       "2  29.76  #ffe119            1      0.4193  \n",
       "3   7.57  #4363d8            1      0.5800  "
      ]
     },
     "execution_count": 48,
     "metadata": {},
     "output_type": "execute_result"
    }
   ],
   "source": [
    "bss_df"
   ]
  }
 ],
 "metadata": {
  "kernelspec": {
   "display_name": "Python [conda env:deep_learning]",
   "language": "python",
   "name": "conda-env-deep_learning-py"
  },
  "language_info": {
   "codemirror_mode": {
    "name": "ipython",
    "version": 3
   },
   "file_extension": ".py",
   "mimetype": "text/x-python",
   "name": "python",
   "nbconvert_exporter": "python",
   "pygments_lexer": "ipython3",
   "version": "3.10.8"
  },
  "vscode": {
   "interpreter": {
    "hash": "98efcfd7bf7e142688e48652691e29ea27144c025493c0216f79c2a220a91abd"
   }
  }
 },
 "nbformat": 4,
 "nbformat_minor": 4
}
